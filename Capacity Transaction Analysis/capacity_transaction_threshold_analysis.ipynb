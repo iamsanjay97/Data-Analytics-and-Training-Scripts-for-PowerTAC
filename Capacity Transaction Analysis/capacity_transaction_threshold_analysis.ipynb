{
 "cells": [
  {
   "cell_type": "code",
   "execution_count": null,
   "id": "3e5f283e",
   "metadata": {},
   "outputs": [],
   "source": [
    "import os\n",
    "import sys\n",
    "sys.path.insert(1, '/mnt/d/PowerTAC/Python/python_utils/helper') "
   ]
  },
  {
   "cell_type": "code",
   "execution_count": null,
   "id": "0c3f48cd",
   "metadata": {},
   "outputs": [],
   "source": [
    "import numpy as np\n",
    "import pandas as pd\n",
    "import seaborn as sns\n",
    "import plotly.express as px\n",
    "import plotly.graph_objects as go\n",
    "\n",
    "from statistics import mean\n",
    "from matplotlib import pyplot as plt\n",
    "from plotly.subplots import make_subplots\n",
    "from read_mongo_collection import HelperToReadMongo\n",
    "\n",
    "sns.set_theme(style=\"darkgrid\")\n",
    "\n",
    "# See complete data\n",
    "pd.set_option('max_columns', None)\n",
    "pd.set_option(\"max_rows\", None)\n",
    "np.set_printoptions(threshold=np.inf)"
   ]
  },
  {
   "cell_type": "code",
   "execution_count": null,
   "id": "2501d895",
   "metadata": {},
   "outputs": [],
   "source": [
    "helper_mongo = HelperToReadMongo()"
   ]
  },
  {
   "cell_type": "code",
   "execution_count": null,
   "id": "c5279aaa",
   "metadata": {},
   "outputs": [],
   "source": [
    "rename_col = {\"MCP\": \"Price\", \"LimitPrice\": \"Price\" , \"Net_Cleared_Quantity\": \"Quantity\", \\\n",
    "              \"Broker's_Cleared_Quantity\": \"Quantity\", \"Broker's_Bidded_Quantity\": \"Quantity\", \\\n",
    "              \"Market_Position\": \"Quantity\"}"
   ]
  },
  {
   "cell_type": "code",
   "execution_count": null,
   "id": "9d715ef2",
   "metadata": {},
   "outputs": [],
   "source": [
    "color_book = {'VV21': 'darkorchid', 'VidyutVanika': 'slateblue', 'VV20': 'slateblue', 'VidyutVanika18': 'yellowgreen', 'VV18': 'yellowgreen', \\\n",
    "              'Sample': 'orchid', 'AgentUDE': 'slategray', 'SPOT': 'tomato', 'TUC_TAC': 'gold', 'MCP': 'red'}\n",
    "\n",
    "def get_colors(list_of_brokers):\n",
    "    return [color_book.get(broker) for broker in list_of_brokers]"
   ]
  },
  {
   "cell_type": "markdown",
   "id": "1a3ef9c5",
   "metadata": {},
   "source": [
    "# Data Processing"
   ]
  },
  {
   "cell_type": "code",
   "execution_count": null,
   "id": "20110db8",
   "metadata": {},
   "outputs": [],
   "source": [
    "# Specify names of all the databases here\n",
    "list_of_databases = ['PowerTAC2021_Trials1_3_reduced_croc_high']\n",
    "\n",
    "# Specify names of all the brokers corresponding to databases here\n",
    "list_of_brokers = ['VV21']\n",
    "\n",
    "# Specify the storage path along with directory\n",
    "storage_path = '/mnt/d/PowerTAC/PowerTAC2021/experiments/capacity_transaction_check/'\n",
    "os.makedirs(storage_path, exist_ok=True) \n",
    "\n",
    "# Specify list of the collections to be analysed here\n",
    "# list_of_collections = helper_mongo.connect_to_mongo('PowerTAC2020_Wholesale_Test_VV21').list_collection_names()\n",
    "list_of_collections = ['Capacity_Transaction_Net_Demand_Info', 'CapacityTransaction_Info']\n",
    "\n",
    "# Keep all the collections at one place\n",
    "dict_of_dataframes = dict()"
   ]
  },
  {
   "cell_type": "code",
   "execution_count": null,
   "id": "f6230c83",
   "metadata": {
    "scrolled": true
   },
   "outputs": [],
   "source": [
    "# View the Collections in all the databases\n",
    "\n",
    "def view_collections(list_of_databases):\n",
    "    \n",
    "    for database in list_of_databases:\n",
    "        \n",
    "        db = helper_mongo.connect_to_mongo(database, server_ip='10.2.16.159', ssh_username='powertac', \\\n",
    "                                           ssh_password='sanjay9397', remote=False)\n",
    "        print(database + \"\\n\" + \"-\"*35)\n",
    "        print(db.list_collection_names())\n",
    "        print(\"\\n\")\n",
    "\n",
    "# Function Calling\n",
    "view_collections(list_of_databases)"
   ]
  },
  {
   "cell_type": "code",
   "execution_count": null,
   "id": "ef5d7b76",
   "metadata": {},
   "outputs": [],
   "source": [
    "for dataset, broker in zip(list_of_databases, list_of_brokers):\n",
    "    \n",
    "    inner_dict = dict()\n",
    "        \n",
    "    for collection in list_of_collections:\n",
    "        \n",
    "        db = helper_mongo.query_to_mongo(dataset, collection, server_ip='10.2.16.159', ssh_username='powertac', \\\n",
    "                                         ssh_password='sanjay9397', remote=False)\n",
    "        db.rename(columns = rename_col, inplace = True)\n",
    "        \n",
    "        if collection not in ['Capacity_Transaction_Net_Demand_Info', 'Cash_and_Market_Position_Info', 'CapacityTransaction_Info']:\n",
    "            db = db[abs(db['Quantity']) > 0.05] \n",
    "            # if (collection != 'ClearedTrade_Info'):\n",
    "            #    # consider only bids\n",
    "            #    db = db[db['Price'] < 0.0]\n",
    "            db['Proximity'] = db['Execution_Timeslot'] - db['Bidding_Timeslot']\n",
    "            \n",
    "        inner_dict.update({collection: db})\n",
    "                \n",
    "    dict_of_dataframes.update({broker: inner_dict})"
   ]
  },
  {
   "cell_type": "markdown",
   "id": "3698ab2e",
   "metadata": {},
   "source": [
    "# Analysis and Plotting"
   ]
  },
  {
   "cell_type": "code",
   "execution_count": null,
   "id": "c053e775",
   "metadata": {},
   "outputs": [],
   "source": [
    "###############################################\n",
    "############ Plot using Plotly ################\n",
    "###############################################\n",
    "    \n",
    "def capacity_transaction_plotly(broker, game):    \n",
    "        \n",
    "    fig = go.Figure()\n",
    "                            \n",
    "    database_nb = dict_of_dataframes.get(broker).get('Capacity_Transaction_Net_Demand_Info').copy(deep=True)\n",
    "    database_ct = dict_of_dataframes.get(broker).get('CapacityTransaction_Info').copy(deep=True)\n",
    "\n",
    "    db_nb = database_nb[database_nb['Game_Name'] == game]\n",
    "    db_ct = database_ct[database_ct['Game_Name'] == game]\n",
    "\n",
    "    fig.add_trace(go.Scatter(x = db_nb['Timeslot'],\n",
    "                                y = db_nb['Mean'], \n",
    "                                name = 'Mean Demand',\n",
    "                               ))\n",
    "\n",
    "    fig.add_trace(go.Scatter(x = db_nb['Timeslot'],\n",
    "                                y = db_nb['Threshold'], \n",
    "                                name = 'Threshold',\n",
    "                               ))\n",
    "\n",
    "    fig.add_trace(go.Scatter(x = db_nb['Timeslot'],\n",
    "                                y = (db_nb['Mean']+2*db_nb['Stdev']), \n",
    "                                name = 'mu + 2sigma',\n",
    "                               ))\n",
    "\n",
    "    fig.add_trace(go.Scatter(x = db_nb['Timeslot'],\n",
    "                                y = db_nb['Demand'], \n",
    "                                name = 'Net Demand',\n",
    "                             ))\n",
    "    \n",
    "    fig.add_trace(go.Scatter(x = db_ct['Peak_Timeslot'],\n",
    "                             y = (db_ct['Threshold'] + db_ct['Exceeded_MWh']),\n",
    "                             name = 'Peak Timeslots',\n",
    "                             mode = 'markers',\n",
    "                             marker=dict(color='red', size=12),\n",
    "                            ))\n",
    "    \n",
    "    for value in db_ct['Timeslot'].unique():\n",
    "        fig.add_vline(x=value, line_width=3, line_dash=\"dash\", line_color=\"green\")\n",
    "                    \n",
    "    fig.update_yaxes(title_text=\"Quantity (KWh)\")\n",
    "    fig.update_xaxes(title_text=\"Timeslot\")\n",
    "    \n",
    "    fig.update_layout(\n",
    "        title=\"Trials1_3_reduced_croc_high_\" + game,\n",
    "        height=750, \n",
    "        width=1550, \n",
    "        template='ggplot2',\n",
    "    )\n",
    "    \n",
    "    for i in fig['layout']['annotations']:\n",
    "        i['font'] = dict(size=14)\n",
    "    \n",
    "    fig.write_html(storage_path + \"/capacity_transaction_Trials1_3_reduced_croc_high_\" + game + \".html\")"
   ]
  },
  {
   "cell_type": "code",
   "execution_count": null,
   "id": "c98e8186",
   "metadata": {},
   "outputs": [],
   "source": [
    "test_database = dict_of_dataframes.get('VV21').get('Capacity_Transaction_Net_Demand_Info').copy(deep=True)\n",
    "test_database.Game_Name.unique()"
   ]
  },
  {
   "cell_type": "code",
   "execution_count": null,
   "id": "03d3c183",
   "metadata": {},
   "outputs": [],
   "source": [
    "###############################################\n",
    "############### Function Call #################\n",
    "###############################################    \n",
    "    \n",
    "capacity_transaction_plotly('VV21', 'finals_2019_07_71_6109')"
   ]
  }
 ],
 "metadata": {
  "kernelspec": {
   "display_name": "Python 3",
   "language": "python",
   "name": "python3"
  },
  "language_info": {
   "codemirror_mode": {
    "name": "ipython",
    "version": 3
   },
   "file_extension": ".py",
   "mimetype": "text/x-python",
   "name": "python",
   "nbconvert_exporter": "python",
   "pygments_lexer": "ipython3",
   "version": "3.8.8"
  }
 },
 "nbformat": 4,
 "nbformat_minor": 5
}
