{
 "cells": [
  {
   "cell_type": "code",
   "execution_count": null,
   "id": "3c044b61",
   "metadata": {},
   "outputs": [],
   "source": [
    "import os\n",
    "import sys\n",
    "import joblib\n",
    "sys.path.insert(1, '/mnt/d/PowerTAC/Python/python_codes/helper') "
   ]
  },
  {
   "cell_type": "code",
   "execution_count": null,
   "id": "7770c12d",
   "metadata": {},
   "outputs": [],
   "source": [
    "import numpy as np\n",
    "import pandas as pd\n",
    "import seaborn as sns\n",
    "import plotly.express as px\n",
    "import plotly.graph_objects as go\n",
    "\n",
    "from statistics import mean\n",
    "from matplotlib import pyplot as plt\n",
    "from plotly.subplots import make_subplots\n",
    "from read_mongo_collection import HelperToReadMongo\n",
    "\n",
    "sns.set_theme(style=\"darkgrid\")\n",
    "\n",
    "# See complete data\n",
    "# pd.set_option('max_columns', None)\n",
    "# pd.set_option(\"max_rows\", None)\n",
    "# np.set_printoptions(threshold=np.inf)"
   ]
  },
  {
   "cell_type": "code",
   "execution_count": null,
   "id": "32ea1918",
   "metadata": {},
   "outputs": [],
   "source": [
    "helper_mongo = HelperToReadMongo()"
   ]
  },
  {
   "cell_type": "code",
   "execution_count": null,
   "id": "a4509ee0",
   "metadata": {},
   "outputs": [],
   "source": [
    "# Specify names of all the databases here\n",
    "database = 'PowerTAC2022_ResidentialEV'\n",
    "collection = 'Residential EV Usage'\n",
    "\n",
    "# Specify the storage path along with directory\n",
    "storage_path = '/mnt/d/PowerTAC/PowerTAC2022/experiments/residentialEV/usage_plots/'\n",
    "os.makedirs(storage_path, exist_ok=True) "
   ]
  },
  {
   "cell_type": "code",
   "execution_count": null,
   "id": "0a2e6d6b",
   "metadata": {
    "scrolled": true
   },
   "outputs": [],
   "source": [
    "db = helper_mongo.query_to_mongo(database, collection, server_ip='<IP>', ssh_username='<username>', ssh_password='<password>', remote=True)  "
   ]
  },
  {
   "cell_type": "code",
   "execution_count": null,
   "id": "0d32e06b",
   "metadata": {},
   "outputs": [],
   "source": [
    "games = db['Game_Name'].unique()\n",
    "\n",
    "for game in games:\n",
    "    \n",
    "    db1 = db[db['Game_Name']==game]\n",
    "    db1['Usage'] *= -1\n",
    "    fig = px.line(db1, x='Timeslot', y='Usage')\n",
    "    \n",
    "    fig.update_yaxes(title_text=\"Usage (KWh)\")\n",
    "    fig.update_xaxes(title_text=\"Timeslot\")\n",
    "\n",
    "    fig.update_layout(height=750, width=1500, title_text=game, template='ggplot2')\n",
    "\n",
    "    for i in fig['layout']['annotations']:\n",
    "        i['font'] = dict(size=14)\n",
    "\n",
    "    fig.write_html(storage_path + \"/\" + game + \"_overall.html\")"
   ]
  },
  {
   "cell_type": "code",
   "execution_count": null,
   "id": "a58be5b7",
   "metadata": {},
   "outputs": [],
   "source": [
    "games = db['Game_Name'].unique()\n",
    "\n",
    "for game in games:\n",
    "    \n",
    "    db1 = db[db['Game_Name']==game]\n",
    "    db1['Usage'] *= -1\n",
    "    db2 = db1.groupby('Day_of_Week').mean()\n",
    "    db3 = db1.groupby('Day_of_Week').std()\n",
    "    \n",
    "    fig = go.Figure()\n",
    "    fig.add_trace(go.Scatter(y=db2['Usage'], mode='lines', name='mean'))\n",
    "    fig.add_trace(go.Scatter(y=db2['Usage'] - db3['Usage'], mode='lines', name='mean-std'))\n",
    "    fig.add_trace(go.Scatter(y=db2['Usage'] + db3['Usage'], mode='lines', name='mean+std'))\n",
    "    \n",
    "#     fig = px.line(db1['Usage'])  \n",
    "    \n",
    "    fig.update_yaxes(title_text=\"Usage (KWh)\")\n",
    "    fig.update_xaxes(title_text=\"Day of Week\")\n",
    "\n",
    "    fig.update_layout(height=750, width=1500, title_text=game, template='ggplot2')\n",
    "\n",
    "    for i in fig['layout']['annotations']:\n",
    "        i['font'] = dict(size=14)\n",
    "\n",
    "    fig.write_html(storage_path + \"/Weekly/\" + game + \"_weekly.html\")"
   ]
  },
  {
   "cell_type": "code",
   "execution_count": null,
   "id": "65d7d60f",
   "metadata": {},
   "outputs": [],
   "source": [
    "games = db['Game_Name'].unique()\n",
    "\n",
    "for game in games:\n",
    "    \n",
    "    db1 = db[db['Game_Name']==game]\n",
    "    db1['Usage'] *= -1\n",
    "    db2 = db1.groupby('Hour_of_Day').mean()\n",
    "    db3 = db1.groupby('Hour_of_Day').std()\n",
    "    \n",
    "    fig = go.Figure()\n",
    "    fig.add_trace(go.Scatter(y=db2['Usage'], mode='lines', name='mean'))\n",
    "    fig.add_trace(go.Scatter(y=db2['Usage'] - db3['Usage'], mode='lines', name='mean-std'))\n",
    "    fig.add_trace(go.Scatter(y=db2['Usage'] + db3['Usage'], mode='lines', name='mean+std'))\n",
    "        \n",
    "    fig.update_yaxes(title_text=\"Usage (KWh)\")\n",
    "    fig.update_xaxes(title_text=\"Hour of Day\")\n",
    "\n",
    "    fig.update_layout(height=750, width=1500, title_text=game, template='ggplot2')\n",
    "\n",
    "    for i in fig['layout']['annotations']:\n",
    "        i['font'] = dict(size=14)\n",
    "\n",
    "    fig.write_html(storage_path + \"/Hourly/\" + game + \"_hourly.html\")"
   ]
  },
  {
   "cell_type": "code",
   "execution_count": null,
   "id": "6f36588b",
   "metadata": {},
   "outputs": [],
   "source": []
  }
 ],
 "metadata": {
  "kernelspec": {
   "display_name": "Python 3",
   "language": "python",
   "name": "python3"
  },
  "language_info": {
   "codemirror_mode": {
    "name": "ipython",
    "version": 3
   },
   "file_extension": ".py",
   "mimetype": "text/x-python",
   "name": "python",
   "nbconvert_exporter": "python",
   "pygments_lexer": "ipython3",
   "version": "3.8.8"
  }
 },
 "nbformat": 4,
 "nbformat_minor": 5
}
