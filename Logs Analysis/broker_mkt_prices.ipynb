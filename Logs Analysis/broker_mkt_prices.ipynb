{
 "cells": [
  {
   "cell_type": "code",
   "execution_count": null,
   "id": "6683f183",
   "metadata": {},
   "outputs": [],
   "source": [
    "import os\n",
    "import sys"
   ]
  },
  {
   "cell_type": "code",
   "execution_count": null,
   "id": "260f4ed1",
   "metadata": {},
   "outputs": [],
   "source": [
    "import numpy as np\n",
    "import pandas as pd\n",
    "import seaborn as sns\n",
    "import plotly.express as px\n",
    "import plotly.graph_objects as go\n",
    "\n",
    "from ast import literal_eval\n",
    "from matplotlib import pyplot as plt\n",
    "from plotly.subplots import make_subplots\n",
    "\n",
    "sns.set_theme(style=\"darkgrid\")\n",
    "\n",
    "# See complete data\n",
    "# pd.set_option('max_columns', None)\n",
    "# pd.set_option(\"max_rows\", None)\n",
    "np.set_printoptions(threshold=np.inf)"
   ]
  },
  {
   "cell_type": "code",
   "execution_count": null,
   "id": "fa50f62d",
   "metadata": {},
   "outputs": [],
   "source": [
    "# Input the boot file to analyse\n",
    "folder = 'finals_2020_11_2'\n",
    "\n",
    "path = \"/mnt/d/PowerTAC/PowerTAC2021/experiments/logtool_results/finals_2020/\" + folder"
   ]
  },
  {
   "cell_type": "code",
   "execution_count": null,
   "id": "c2b829c5",
   "metadata": {},
   "outputs": [],
   "source": [
    "color_book = {'VidyutVanika': 'darkorchid','EWIIS3_2021': 'deepskyblue', 'CrocodileAgent2020': 'yellowgreen', 'SPOT': 'tomato', 'defaultbroker': 'deeppink'}\n",
    "\n",
    "def get_colors(list_of_brokers):\n",
    "    return [color_book.get(broker) for broker in list_of_brokers]"
   ]
  },
  {
   "cell_type": "code",
   "execution_count": null,
   "id": "ce20d1b4",
   "metadata": {},
   "outputs": [],
   "source": [
    "#### Needs pre-processing of this file ####\n",
    "# Remove all data other than brokers' mwh and price\n",
    "# replace '],' with '];' (basically change the delimiter for columns as well as for data)\n",
    "# remove starting indentation in data only\n",
    "\n",
    "broker_mkt_prices = pd.read_csv(path + \"/BrokerMktPrices.csv\", delimiter=';')"
   ]
  },
  {
   "cell_type": "code",
   "execution_count": null,
   "id": "0fafe059",
   "metadata": {},
   "outputs": [],
   "source": [
    "list_of_brokers = broker_mkt_prices.columns.tolist()"
   ]
  },
  {
   "cell_type": "code",
   "execution_count": null,
   "id": "c5948b0d",
   "metadata": {},
   "outputs": [],
   "source": [
    "def convert(string):\n",
    "    string = string.replace(' ', '')\n",
    "    string = string.replace('[', '')\n",
    "    string = string.replace(']', '')\n",
    "    mwh, price = string.split(\",\")\n",
    "    return [float(mwh), float(price)]\n",
    "\n",
    "def convert_df(df):\n",
    "    mwh_list = [convert(x)[0] for x in df]\n",
    "    price_list = [convert(x)[1] for x in df]\n",
    "    return mwh_list, price_list"
   ]
  },
  {
   "cell_type": "code",
   "execution_count": null,
   "id": "7c5b8c22",
   "metadata": {},
   "outputs": [],
   "source": [
    "num_rows = 2\n",
    "num_cols = 1\n",
    "\n",
    "fig = make_subplots(rows=num_rows, \n",
    "                    cols=num_cols,\n",
    "                    subplot_titles=('Avg Market-Price per Timeslot Comparison', 'Total Quantity Purchased per Timeslot Comparison'),\n",
    "                    vertical_spacing=0.10)\n",
    "\n",
    "for broker in list_of_brokers:\n",
    "    \n",
    "    df = broker_mkt_prices[broker].to_numpy()\n",
    "    mwh_list, price_list = convert_df(df)\n",
    "    \n",
    "    broker = broker.replace(' ', '')\n",
    "    fig.append_trace(go.Scatter(x = np.arange(len(price_list))+360,\n",
    "                                y = price_list, \n",
    "                                name = broker,\n",
    "                                line=dict(color=color_book.get(broker)),\n",
    "                                legendgroup = 1\n",
    "                               ), row = 1, col = 1)\n",
    "\n",
    "    fig.append_trace(go.Scatter(x = np.arange(len(mwh_list)) + 360,\n",
    "                                y = mwh_list, \n",
    "                                name = broker,\n",
    "                                line=dict(color=color_book.get(broker)),\n",
    "                                legendgroup = 1,\n",
    "                                showlegend=False\n",
    "                               ), row = 2, col = 1)\n",
    "\n",
    "fig.update_yaxes(title_text=\"Price ($)\", row = 1, col = 1)\n",
    "fig.update_yaxes(title_text=\"Quantity (MWh)\", row = 2, col = 1)\n",
    "fig.update_xaxes(title_text=\"Timeslot\", row = 2, col = 1)\n",
    "\n",
    "fig.update_layout(\n",
    "    height=750, \n",
    "    width=1500, \n",
    "    template='ggplot2',\n",
    ")\n",
    "\n",
    "for i in fig['layout']['annotations']:\n",
    "    i['font'] = dict(size=14)\n",
    "\n",
    "fig.write_html(path + \"/Results/BrokerMktPrices.html\")"
   ]
  }
 ],
 "metadata": {
  "kernelspec": {
   "display_name": "Python 3",
   "language": "python",
   "name": "python3"
  },
  "language_info": {
   "codemirror_mode": {
    "name": "ipython",
    "version": 3
   },
   "file_extension": ".py",
   "mimetype": "text/x-python",
   "name": "python",
   "nbconvert_exporter": "python",
   "pygments_lexer": "ipython3",
   "version": "3.8.8"
  }
 },
 "nbformat": 4,
 "nbformat_minor": 5
}
