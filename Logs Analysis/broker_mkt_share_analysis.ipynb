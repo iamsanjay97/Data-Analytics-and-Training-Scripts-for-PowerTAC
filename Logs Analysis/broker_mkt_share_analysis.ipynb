{
 "cells": [
  {
   "cell_type": "code",
   "execution_count": null,
   "id": "7c405b52",
   "metadata": {},
   "outputs": [],
   "source": [
    "import pandas as pd\n",
    "\n",
    "import os\n",
    "import numpy as np\n",
    "np.set_printoptions(threshold=np.inf)\n",
    "import matplotlib.pyplot as plt\n",
    "import statistics\n",
    "\n",
    "import seaborn as sns\n",
    "import plotly.express as px\n",
    "import plotly.graph_objects as go\n",
    "\n",
    "from matplotlib import pyplot as plt\n",
    "from plotly.subplots import make_subplots\n",
    "\n",
    "sns.set_theme(style=\"darkgrid\")\n",
    "\n",
    "import sys\n",
    "sys.path.insert(1, '/mnt/d/PowerTAC/Demand_Response/Python/helper') \n",
    "\n",
    "from read_mongo_collection import HelperToReadMongo\n",
    "from customer_info import CustomerInfo\n",
    "\n",
    "import numpy as np\n",
    "import pandas as pd\n",
    "import seaborn as sns\n",
    "import plotly.graph_objects as go\n",
    "\n",
    "from matplotlib import pyplot as plt\n",
    "from plotly.subplots import make_subplots\n",
    "from read_mongo_collection import HelperToReadMongo\n",
    "\n",
    "plt.style.use(\"fivethirtyeight\")\n",
    "\n",
    "# # See complete data\n",
    "# pd.set_option('max_columns', None)\n",
    "# pd.set_option(\"max_rows\", None)\n",
    "# np.set_printoptions(threshold=np.inf)\n",
    "\n",
    "helper_to_read_mongo = HelperToReadMongo()"
   ]
  },
  {
   "cell_type": "code",
   "execution_count": null,
   "id": "692ae25f",
   "metadata": {},
   "outputs": [],
   "source": [
    "dataframe = helper_to_read_mongo.query_to_mongo('PowerTAC2022_Tariff_RL_3Player_Test2', 'AccountingInformation_VV20', server_ip='10.2.16.159', ssh_username='sanjay', ssh_password='sanjay', remote=True)\n",
    "\n",
    "group_dataframe = dataframe.groupby('Game_Name')\n",
    "group_dataframe_mean = group_dataframe.mean()"
   ]
  },
  {
   "cell_type": "code",
   "execution_count": null,
   "id": "c7217e92",
   "metadata": {},
   "outputs": [],
   "source": [
    "keys = group_dataframe_mean['Market_ShareC'].index.tolist()\n",
    "values = (group_dataframe_mean['Market_ShareC'].values*100.0).tolist()"
   ]
  },
  {
   "cell_type": "code",
   "execution_count": null,
   "id": "da1c6eff",
   "metadata": {},
   "outputs": [],
   "source": [
    "path = \"/mnt/d/PowerTAC/PowerTAC2022/experiments/logtool_results/tariff_RL_strategy_v1_0/three_player_test/\"\n",
    "\n",
    "fig = go.Figure(data = [\n",
    "        (go.Bar(name='Market Share', x=keys, y=values, marker_color='palegreen'))\n",
    "    ])    \n",
    "\n",
    "fig.update_yaxes(title_text=\"Average Market Share (%)\")\n",
    "fig.update_traces(marker_line_color='black', marker_line_width=0.5)\n",
    "fig.update_layout(\n",
    "        height=750, \n",
    "        width=1550, \n",
    "        barmode='group',\n",
    "        title_text='3 Player Games',\n",
    "        template='ggplot2')\n",
    "\n",
    "fig.write_html(path + \"/AverageMarketShare.html\")"
   ]
  }
 ],
 "metadata": {
  "kernelspec": {
   "display_name": "Python 3",
   "language": "python",
   "name": "python3"
  },
  "language_info": {
   "codemirror_mode": {
    "name": "ipython",
    "version": 3
   },
   "file_extension": ".py",
   "mimetype": "text/x-python",
   "name": "python",
   "nbconvert_exporter": "python",
   "pygments_lexer": "ipython3",
   "version": "3.8.8"
  }
 },
 "nbformat": 4,
 "nbformat_minor": 5
}
