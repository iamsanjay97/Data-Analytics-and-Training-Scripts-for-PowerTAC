{
 "cells": [
  {
   "cell_type": "code",
   "execution_count": null,
   "id": "633716ad",
   "metadata": {},
   "outputs": [],
   "source": [
    "import os\n",
    "import sys"
   ]
  },
  {
   "cell_type": "code",
   "execution_count": null,
   "id": "608958a8",
   "metadata": {},
   "outputs": [],
   "source": [
    "import numpy as np\n",
    "import pandas as pd\n",
    "import seaborn as sns\n",
    "import plotly.express as px\n",
    "import plotly.graph_objects as go\n",
    "\n",
    "from matplotlib import pyplot as plt\n",
    "from plotly.subplots import make_subplots\n",
    "\n",
    "sns.set_theme(style=\"darkgrid\")\n",
    "\n",
    "# See complete data\n",
    "# pd.set_option('max_columns', None)\n",
    "# pd.set_option(\"max_rows\", None)\n",
    "# np.set_printoptions(threshold=np.inf)"
   ]
  },
  {
   "cell_type": "code",
   "execution_count": null,
   "id": "773981fb",
   "metadata": {},
   "outputs": [],
   "source": [
    "# Input the boot file to analyse\n",
    "folder = 'qualifying_2021_2'\n",
    "\n",
    "path = \"/mnt/d/PowerTAC/PowerTAC2021/experiments/logtool_results/qualifiers_2021/\" + folder\n",
    "os.makedirs(path + \"/Results\", exist_ok=True)"
   ]
  },
  {
   "cell_type": "code",
   "execution_count": null,
   "id": "47f31818",
   "metadata": {},
   "outputs": [],
   "source": [
    "color_book = {'ttx_sc': 'gray', 'ttx_sd': 'lightgray', 'ttx_uc': 'limegreen', 'ttx_ud': 'seagreen', 'mtx_c': 'slateblue', \n",
    "              'mtx_d': 'mediumslateblue', 'btx_c': 'salmon', 'btx_d': 'tomato', 'dtx_c': 'khaki', 'dtx_d': 'gold', \n",
    "              'ctx_c': 'palegreen', 'ctx_d': 'darkseagreen', 'bce_c': 'skyblue', 'bce_d': 'deepskyblue', \n",
    "              'bank_c': 'deeppink', 'bank_d': 'hotpink', 'final_cash': 'darkorchid', 'net_demand': 'lightsalmon', \n",
    "              'mkt_qty': 'yellowgreen', 'mkt_cost': 'yellowgreen', 'imb_qty': 'mediumorchid', 'imb_cost': 'mediumorchid', \n",
    "              'VidyutVanika': 'darkorchid','EWIIS3_2021': 'deepskyblue', 'CrocodileAgent2020': 'yellowgreen', \n",
    "              'SPOT': 'tomato', 'default broker': 'deeppink'}\n",
    "\n",
    "def get_colors(list_of_brokers):\n",
    "    return [color_book.get(broker) for broker in list_of_brokers]"
   ]
  },
  {
   "cell_type": "code",
   "execution_count": null,
   "id": "ca95caeb",
   "metadata": {},
   "outputs": [],
   "source": [
    "with open(path + '/BrokerCosts.csv', 'r') as fin:\n",
    "    data = fin.read().splitlines(True)\n",
    "with open(path + '/BrokerCostsU.csv', 'w') as fout:\n",
    "    fout.writelines(data[1:])"
   ]
  },
  {
   "cell_type": "code",
   "execution_count": null,
   "id": "c05d7742",
   "metadata": {},
   "outputs": [],
   "source": [
    "broker_accounting = pd.read_csv(path + \"/BrokerAccounting.csv\")\n",
    "broker_costs = pd.read_csv(path + \"/BrokerCostsU.csv\")"
   ]
  },
  {
   "cell_type": "code",
   "execution_count": null,
   "id": "b189e032",
   "metadata": {},
   "outputs": [],
   "source": [
    "number_of_brokers = len(broker_costs['broker-name'])\n",
    "\n",
    "list_of_brokers = list()\n",
    "for ind in range(number_of_brokers):\n",
    "    \n",
    "    col_broker = 'broker' + str(ind)\n",
    "    broker_name = broker_accounting[col_broker].unique()[0]\n",
    "    list_of_brokers.append(broker_name)"
   ]
  },
  {
   "cell_type": "code",
   "execution_count": null,
   "id": "62c98235",
   "metadata": {},
   "outputs": [],
   "source": [
    "columns = broker_accounting.iloc[:, 4:21].columns.tolist()"
   ]
  },
  {
   "cell_type": "code",
   "execution_count": null,
   "id": "065dd176",
   "metadata": {
    "scrolled": false
   },
   "outputs": [],
   "source": [
    "start_index = 4\n",
    "\n",
    "total_ttx_sc = list()\n",
    "total_ttx_sd = list()\n",
    "total_ttx_uc = list()\n",
    "total_ttx_ud = list()\n",
    "total_mtx_c = list()\n",
    "total_mtx_d = list()\n",
    "total_btx_c = list()\n",
    "total_btx_d = list()\n",
    "total_dtx_c = list()\n",
    "total_dtx_d = list()\n",
    "total_ctx_c = list()\n",
    "total_ctx_d = list()\n",
    "total_bce_c = list()\n",
    "total_bce_d = list()\n",
    "total_bank_c = list()\n",
    "total_bank_d = list()\n",
    "final_cash = list()\n",
    "\n",
    "for ind in range(number_of_brokers):\n",
    "    \n",
    "    col_broker = 'broker' + str(ind)\n",
    "    broker_name = broker_accounting[col_broker].unique()[0]\n",
    "    \n",
    "    dataframe = broker_accounting.iloc[:, start_index:(start_index+17)]\n",
    "    dataframe.columns = columns\n",
    "    \n",
    "    total_ttx_sc.append(dataframe['ttx-sc'].sum())\n",
    "    total_ttx_sd.append(dataframe['ttx-sd'].sum())\n",
    "    total_ttx_uc.append(dataframe['ttx-uc'].sum())\n",
    "    total_ttx_ud.append(dataframe['ttx-ud'].sum())\n",
    "    total_mtx_c.append(dataframe['mtx-c'].sum())\n",
    "    total_mtx_d.append(dataframe['mtx-d'].sum())\n",
    "    total_btx_c.append(dataframe['btx-c'].sum())\n",
    "    total_btx_d.append(dataframe['btx-d'].sum())\n",
    "    total_dtx_c.append(dataframe['dtx-c'].sum())\n",
    "    total_dtx_d.append(dataframe['dtx-d'].sum())\n",
    "    total_ctx_c.append(dataframe['ctx-c'].sum())\n",
    "    total_ctx_d.append(dataframe['ctx-d'].sum())\n",
    "    total_bce_c.append(dataframe['bce-c'].sum())\n",
    "    total_bce_d.append(dataframe['bce-d'].sum())\n",
    "    total_bank_c.append(dataframe['bank-c'].sum())\n",
    "    total_bank_d.append(dataframe['bank-d'].sum())\n",
    "    final_cash.append(dataframe['cash'].iloc[-1])\n",
    "    \n",
    "    start_index = start_index + 18\n",
    "    \n",
    "    \n",
    "fig = go.Figure(data = [\n",
    "        (go.Bar(name='ttx_sc', x=list_of_brokers, y=total_ttx_sc, marker_color=color_book.get('ttx_sc'))),\n",
    "        (go.Bar(name='ttx_sd', x=list_of_brokers, y=total_ttx_sd, marker_color=color_book.get('ttx_sd'))),\n",
    "        (go.Bar(name='ttx_uc', x=list_of_brokers, y=total_ttx_uc, marker_color=color_book.get('ttx_uc'))),\n",
    "        (go.Bar(name='ttx_ud', x=list_of_brokers, y=total_ttx_ud, marker_color=color_book.get('ttx_ud'))),\n",
    "        (go.Bar(name='mtx_c', x=list_of_brokers, y=total_mtx_c, marker_color=color_book.get('mtx_c'))),\n",
    "        (go.Bar(name='mtx_d', x=list_of_brokers, y=total_mtx_d, marker_color=color_book.get('mtx_d'))),\n",
    "        (go.Bar(name='btx_c', x=list_of_brokers, y=total_btx_c, marker_color=color_book.get('btx_c'))),\n",
    "        (go.Bar(name='btx_d', x=list_of_brokers, y=total_btx_d, marker_color=color_book.get('btx_d'))),\n",
    "        (go.Bar(name='dtx_c', x=list_of_brokers, y=total_dtx_c, marker_color=color_book.get('dtx_c'))),\n",
    "        (go.Bar(name='dtx_d', x=list_of_brokers, y=total_dtx_d, marker_color=color_book.get('dtx_d'))),\n",
    "        (go.Bar(name='ctx_c', x=list_of_brokers, y=total_ctx_c, marker_color=color_book.get('ctx_c'))),\n",
    "        (go.Bar(name='ctx_d', x=list_of_brokers, y=total_ctx_d, marker_color=color_book.get('ctx_d'))),\n",
    "        (go.Bar(name='bce_c', x=list_of_brokers, y=total_bce_c, marker_color=color_book.get('bce_c'))),\n",
    "        (go.Bar(name='bce_d', x=list_of_brokers, y=total_bce_d, marker_color=color_book.get('bce_d'))),\n",
    "        (go.Bar(name='bank_c', x=list_of_brokers, y=total_bank_c, marker_color=color_book.get('bank_c'))),\n",
    "        (go.Bar(name='bank_d', x=list_of_brokers, y=total_bank_d, marker_color=color_book.get('bank_d'))),\n",
    "        (go.Bar(name='final_cash', x=list_of_brokers, y=final_cash, marker_color=color_book.get('final_cash')))\n",
    "    ])    \n",
    "    \n",
    "fig.update_yaxes(title_text=\"Price ($)\")\n",
    "fig.update_traces(marker_line_color='black', marker_line_width=0.5)\n",
    "fig.update_layout(\n",
    "        height=750, \n",
    "        width=1550, \n",
    "        barmode='group',\n",
    "        title_text='Accounting Information',\n",
    "        template='ggplot2')\n",
    "\n",
    "fig.write_html(path + \"/Results/BrokerAccounting.html\")"
   ]
  },
  {
   "cell_type": "markdown",
   "id": "812d2b18",
   "metadata": {},
   "source": [
    "## ----------------------------------------------------------------------------------------------------------------------"
   ]
  },
  {
   "cell_type": "code",
   "execution_count": null,
   "id": "9e2c6407",
   "metadata": {},
   "outputs": [],
   "source": [
    "broker_imbalance_cost = pd.read_csv(path + \"/BrokerImbalanceCost.csv\")"
   ]
  },
  {
   "cell_type": "code",
   "execution_count": null,
   "id": "98171f2a",
   "metadata": {},
   "outputs": [],
   "source": [
    "group_dataframe = broker_imbalance_cost.groupby(' broker')\n",
    "group_dataframe_mean = group_dataframe.mean()\n",
    "group_dataframe_sum = group_dataframe.sum()"
   ]
  },
  {
   "cell_type": "code",
   "execution_count": null,
   "id": "619f78e8",
   "metadata": {},
   "outputs": [],
   "source": [
    "list_of_brokers = list(group_dataframe.groups.keys())\n",
    "\n",
    "mean_net_demand = group_dataframe_mean[' netDemand']\n",
    "mean_mkt_qty = group_dataframe_mean[' mktQty']*(-1)\n",
    "mean_mkt_cost = group_dataframe_mean[' mktCost']\n",
    "unit_mkt_price = [abs((c/q)*1000) if q != 0 else -1 for c,q in zip(mean_mkt_cost, mean_mkt_qty)]\n",
    "mean_imb_qty = group_dataframe_mean[' imbalance']\n",
    "mean_imb_cost = group_dataframe_mean[' imbalanceCost']\n",
    "unit_imb_price = [abs((c/q)*1000) if q != 0 else -1 for c,q in zip(mean_imb_cost, mean_imb_qty)]\n",
    "\n",
    "num_rows = 1\n",
    "num_cols = 3\n",
    "\n",
    "fig = make_subplots(rows=num_rows, \n",
    "                    cols=num_cols,\n",
    "                    subplot_titles=('Quantity Comparison', 'Price Comparison', 'Unit Price Comparison'))\n",
    "\n",
    "trace1 = go.Bar(name='net_demand', x=list_of_brokers, y=mean_net_demand,marker_color=color_book.get('net_demand'), legendgroup = 1)\n",
    "trace2 = go.Bar(name='mkt_qty', x=list_of_brokers, y=mean_mkt_qty, marker_color=color_book.get('mkt_qty'), legendgroup = 1)\n",
    "trace3 = go.Bar(name='mkt_cost', x=list_of_brokers, y=mean_mkt_cost, marker_color=color_book.get('mkt_cost'), legendgroup = 2)\n",
    "trace4 = go.Bar(name='imb_qty', x=list_of_brokers, y=mean_imb_qty, marker_color=color_book.get('imb_qty'), legendgroup = 1)\n",
    "trace5 = go.Bar(name='imb_cost', x=list_of_brokers, y=mean_imb_cost, marker_color=color_book.get('imb_cost'), legendgroup = 2)\n",
    "trace6 = go.Bar(name='unit_mkt_cost', x=list_of_brokers, y=unit_mkt_price, marker_color=color_book.get('mkt_cost'), legendgroup = 3)\n",
    "trace7 = go.Bar(name='unit_imb_cost', x=list_of_brokers, y=unit_imb_price, marker_color=color_book.get('imb_cost'), legendgroup = 3)\n",
    "\n",
    "fig.append_trace(trace1, row = 1, col = 1)\n",
    "fig.append_trace(trace2, row = 1, col = 1)\n",
    "fig.append_trace(trace4, row = 1, col = 1)\n",
    "fig.append_trace(trace3, row = 1, col = 2)\n",
    "fig.append_trace(trace5, row = 1, col = 2)\n",
    "fig.append_trace(trace6, row = 1, col = 3)\n",
    "fig.append_trace(trace7, row = 1, col = 3)\n",
    "\n",
    "fig.update_yaxes(title_text=\"Quantity (KWh)\", row=1, col=1)\n",
    "fig.update_yaxes(title_text=\"Price ($)\", row=1, col=2)\n",
    "fig.update_yaxes(title_text=\"Price ($/MWh)\", row=1, col=3)\n",
    "fig.update_traces(marker_line_color='black', marker_line_width=0.5)\n",
    "\n",
    "for i in fig['layout']['annotations']:\n",
    "        i['font'] = dict(size=14)\n",
    "        \n",
    "fig.update_layout(\n",
    "        height=750, \n",
    "        width=1550, \n",
    "        barmode='group',\n",
    "        title_text='Balancing Information (Mean Value per Timeslot)',\n",
    "        template='ggplot2')\n",
    "\n",
    "fig.write_html(path + \"/Results/BrokerImbalance.html\")"
   ]
  },
  {
   "cell_type": "code",
   "execution_count": null,
   "id": "b7e56ff6",
   "metadata": {},
   "outputs": [],
   "source": [
    "list_of_brokers = list(group_dataframe.groups.keys())\n",
    "\n",
    "mean_net_demand = group_dataframe_sum[' netDemand']\n",
    "mean_mkt_qty = group_dataframe_sum[' mktQty']*(-1)\n",
    "mean_mkt_cost = group_dataframe_sum[' mktCost']\n",
    "unit_mkt_price = [abs((c/q)*1000) if q != 0 else -1 for c,q in zip(mean_mkt_cost, mean_mkt_qty)]\n",
    "mean_imb_qty = group_dataframe_sum[' imbalance']\n",
    "mean_imb_cost = group_dataframe_sum[' imbalanceCost']\n",
    "unit_imb_price = [abs((c/q)*1000) if q != 0 else -1 for c,q in zip(mean_imb_cost, mean_imb_qty)]\n",
    "\n",
    "num_rows = 1\n",
    "num_cols = 3\n",
    "\n",
    "fig = make_subplots(rows=num_rows, \n",
    "                    cols=num_cols,\n",
    "                    subplot_titles=('Quantity Comparison', 'Price Comparison', 'Unit Price Comparison'))\n",
    "\n",
    "trace1 = go.Bar(name='net_demand', x=list_of_brokers, y=mean_net_demand,marker_color=color_book.get('net_demand'), legendgroup = 1)\n",
    "trace2 = go.Bar(name='mkt_qty', x=list_of_brokers, y=mean_mkt_qty, marker_color=color_book.get('mkt_qty'), legendgroup = 1)\n",
    "trace3 = go.Bar(name='mkt_cost', x=list_of_brokers, y=mean_mkt_cost, marker_color=color_book.get('mkt_cost'), legendgroup = 2)\n",
    "trace4 = go.Bar(name='imb_qty', x=list_of_brokers, y=mean_imb_qty, marker_color=color_book.get('imb_qty'), legendgroup = 1)\n",
    "trace5 = go.Bar(name='imb_cost', x=list_of_brokers, y=mean_imb_cost, marker_color=color_book.get('imb_cost'), legendgroup = 2)\n",
    "trace6 = go.Bar(name='unit_mkt_cost', x=list_of_brokers, y=unit_mkt_price, marker_color=color_book.get('mkt_cost'), legendgroup = 3)\n",
    "trace7 = go.Bar(name='unit_imb_cost', x=list_of_brokers, y=unit_imb_price, marker_color=color_book.get('imb_cost'), legendgroup = 3)\n",
    "\n",
    "fig.append_trace(trace1, row = 1, col = 1)\n",
    "fig.append_trace(trace2, row = 1, col = 1)\n",
    "fig.append_trace(trace4, row = 1, col = 1)\n",
    "fig.append_trace(trace3, row = 1, col = 2)\n",
    "fig.append_trace(trace5, row = 1, col = 2)\n",
    "fig.append_trace(trace6, row = 1, col = 3)\n",
    "fig.append_trace(trace7, row = 1, col = 3)\n",
    "\n",
    "fig.update_yaxes(title_text=\"Quantity (KWh)\", row=1, col=1)\n",
    "fig.update_yaxes(title_text=\"Price ($)\", row=1, col=2)\n",
    "fig.update_yaxes(title_text=\"Price ($/MWh)\", row=1, col=3)\n",
    "fig.update_traces(marker_line_color='black', marker_line_width=0.5)\n",
    "\n",
    "for i in fig['layout']['annotations']:\n",
    "        i['font'] = dict(size=14)\n",
    "        \n",
    "fig.update_layout(\n",
    "        height=750, \n",
    "        width=1550, \n",
    "        barmode='group',\n",
    "        title_text='Balancing Information',\n",
    "        template='ggplot2')\n",
    "\n",
    "fig.write_html(path + \"/Results/BrokerImbalanceTotal.html\")"
   ]
  },
  {
   "cell_type": "markdown",
   "id": "23ee9668",
   "metadata": {},
   "source": [
    "## ----------------------------------------------------------------------------------------------------------------------"
   ]
  },
  {
   "cell_type": "code",
   "execution_count": null,
   "id": "61c5dc25",
   "metadata": {},
   "outputs": [],
   "source": [
    "tariff_mkt_share = pd.read_csv(path + \"/TariffMktShare.csv\", index_col=False)\n",
    "list_of_brokers = tariff_mkt_share.iloc[:,1:].columns.tolist()\n",
    "tariff_mkt_share['Total'] = tariff_mkt_share.iloc[:,1:].sum(axis=1)"
   ]
  },
  {
   "cell_type": "code",
   "execution_count": null,
   "id": "65925d09",
   "metadata": {},
   "outputs": [],
   "source": [
    "for broker in list_of_brokers:\n",
    "    \n",
    "    tariff_mkt_share[broker] = (tariff_mkt_share[broker] / tariff_mkt_share['Total'])*100\n",
    "    \n",
    "fig = px.line(tariff_mkt_share, x='ts', y=list_of_brokers, color_discrete_sequence=get_colors(list_of_brokers))\n",
    "\n",
    "fig.update_yaxes(title_text=\"Overall Market Share (%)\")\n",
    "fig.update_xaxes(title_text=\"Timeslot\")\n",
    "\n",
    "fig.update_layout(\n",
    "    height=750, \n",
    "    width=1500, \n",
    "    title_text='Tariff Market Share Information',\n",
    "    template='ggplot2',\n",
    ")\n",
    "\n",
    "for i in fig['layout']['annotations']:\n",
    "    i['font'] = dict(size=14)\n",
    "\n",
    "fig.write_html(path + \"/Results/TariffMktShare.html\")"
   ]
  },
  {
   "cell_type": "markdown",
   "id": "a9dba202",
   "metadata": {},
   "source": [
    "## ----------------------------------------------------------------------------------------------------------------------"
   ]
  },
  {
   "cell_type": "code",
   "execution_count": null,
   "id": "24970a5a",
   "metadata": {},
   "outputs": [],
   "source": [
    "total_demand = pd.read_csv(path + \"/TotalDemand.csv\", index_col=False)"
   ]
  },
  {
   "cell_type": "code",
   "execution_count": null,
   "id": "b7744caa",
   "metadata": {},
   "outputs": [],
   "source": [
    "num_rows = 2\n",
    "num_cols = 1\n",
    "\n",
    "fig = make_subplots(rows=num_rows, \n",
    "                    cols=num_cols,\n",
    "                    subplot_titles=('Internal PowerTAC Demand', 'External MISO Buyer Demand'),\n",
    "                    vertical_spacing=0.10)\n",
    "\n",
    "\n",
    "fig.append_trace(go.Scatter(x = total_demand['slot'], y = total_demand[' int_demand'], name = 'int_demand', legendgroup = 1), row = 1, col = 1)\n",
    "fig.append_trace(go.Scatter(x = total_demand['slot'], y = total_demand[' ext_demand'], name = 'ext_demand', legendgroup = 2), row = 2, col = 1)\n",
    "\n",
    "fig.update_yaxes(title_text=\"Demand (MWh)\")\n",
    "fig.update_xaxes(title_text=\"Timeslot\", row=2)\n",
    "\n",
    "fig.update_layout(height=750, width=1500, title_text='Market Net Demand Information', template='ggplot2')\n",
    "\n",
    "for i in fig['layout']['annotations']:\n",
    "    i['font'] = dict(size=14)\n",
    "\n",
    "fig.write_html(path + \"/Results/TotalDemand.html\")"
   ]
  },
  {
   "cell_type": "markdown",
   "id": "eea656a0",
   "metadata": {},
   "source": [
    "## ----------------------------------------------------------------------------------------------------------------------"
   ]
  },
  {
   "cell_type": "code",
   "execution_count": null,
   "id": "847d4af5",
   "metadata": {},
   "outputs": [],
   "source": [
    "production_consumption = pd.read_csv(path + \"/ProductionConsumptionWeather.csv\", index_col=False)\n",
    "production_consumption[' net demand'] = -1*(production_consumption[' consumption'] + production_consumption[' production'])\n",
    "production_consumption[' consumption'] = -1*production_consumption[' consumption']"
   ]
  },
  {
   "cell_type": "code",
   "execution_count": null,
   "id": "9ccd9375",
   "metadata": {},
   "outputs": [],
   "source": [
    "fig = px.line(production_consumption, x='slot', y=[' production', ' consumption', ' net demand'])\n",
    "\n",
    "fig.update_yaxes(title_text=\"Quantity (MWh)\")\n",
    "fig.update_xaxes(title_text=\"Timeslot\")\n",
    "\n",
    "fig.update_layout(\n",
    "    height=750, \n",
    "    width=1500, \n",
    "    title_text='Production, Consumption and Net Demand Information',\n",
    "    template='ggplot2',\n",
    ")\n",
    "\n",
    "for i in fig['layout']['annotations']:\n",
    "    i['font'] = dict(size=14)\n",
    "\n",
    "fig.write_html(path + \"/Results/ProductionConsumption.html\")"
   ]
  },
  {
   "cell_type": "markdown",
   "id": "23e27213",
   "metadata": {},
   "source": [
    "## ----------------------------------------------------------------------------------------------------------------------"
   ]
  },
  {
   "cell_type": "code",
   "execution_count": null,
   "id": "0a74a795",
   "metadata": {},
   "outputs": [],
   "source": [
    "imbalance_summary = pd.read_csv(path + \"/ImbalanceSummary.csv\", header=None)\n",
    "imbalance_summary = imbalance_summary.iloc[2:,:-3]\n",
    "new_header = imbalance_summary.iloc[0]\n",
    "imbalance_summary = imbalance_summary[1:]\n",
    "imbalance_summary.columns = new_header\n",
    "\n",
    "imbalance_summary.iloc[:,1:] = imbalance_summary.iloc[:,1:].apply(pd.to_numeric)"
   ]
  },
  {
   "cell_type": "code",
   "execution_count": null,
   "id": "5cf67b09",
   "metadata": {},
   "outputs": [],
   "source": [
    "list_of_brokers = imbalance_summary['broker'].tolist()\n",
    "\n",
    "unit_con_price = [abs((c/q)*1000) if q != 0 else -1 for c,q in zip(imbalance_summary['c_revenue'], imbalance_summary['c'])]\n",
    "unit_pro_price = [abs((c/q)*1000) if q != 0 else -1 for c,q in zip(imbalance_summary['p_revenue'], imbalance_summary['p'])]\n",
    "\n",
    "num_rows = 1\n",
    "num_cols = 3\n",
    "\n",
    "fig = make_subplots(rows=num_rows, \n",
    "                    cols=num_cols,\n",
    "                    subplot_titles=('Quantity Comparison', 'Price Comparison', 'Unit Price Comparison'))\n",
    "\n",
    "trace1 = go.Bar(name='c', x=list_of_brokers, y=imbalance_summary['c'], marker_color=color_book.get('mkt_qty'), legendgroup = 1)\n",
    "trace2 = go.Bar(name='p', x=list_of_brokers, y=imbalance_summary['p'], marker_color=color_book.get('imb_qty'), legendgroup = 1)\n",
    "trace3 = go.Bar(name='c_revenue', x=list_of_brokers, y=imbalance_summary['c_revenue'], marker_color=color_book.get('mkt_qty'), legendgroup = 2)\n",
    "trace4 = go.Bar(name='p_revenue', x=list_of_brokers, y=imbalance_summary['p_revenue'], marker_color=color_book.get('imb_qty'), legendgroup = 2)\n",
    "trace5 = go.Bar(name='unit_con_cost', x=list_of_brokers, y=unit_con_price, marker_color=color_book.get('mkt_qty'), legendgroup = 3)\n",
    "trace6 = go.Bar(name='unit_pro_cost', x=list_of_brokers, y=unit_pro_price, marker_color=color_book.get('imb_qty'), legendgroup = 3)\n",
    "\n",
    "fig.append_trace(trace1, row = 1, col = 1)\n",
    "fig.append_trace(trace2, row = 1, col = 1)\n",
    "fig.append_trace(trace3, row = 1, col = 2)\n",
    "fig.append_trace(trace4, row = 1, col = 2)\n",
    "fig.append_trace(trace5, row = 1, col = 3)\n",
    "fig.append_trace(trace6, row = 1, col = 3)\n",
    "\n",
    "fig.update_yaxes(title_text=\"Quantity (KWh)\", row=1, col=1)\n",
    "fig.update_yaxes(title_text=\"Price ($)\", row=1, col=2)\n",
    "fig.update_yaxes(title_text=\"Price ($/MWh)\", row=1, col=3)\n",
    "fig.update_traces(marker_line_color='black', marker_line_width=0.5)\n",
    "\n",
    "for i in fig['layout']['annotations']:\n",
    "        i['font'] = dict(size=14)\n",
    "        \n",
    "fig.update_layout(\n",
    "        height=750, \n",
    "        width=1550, \n",
    "        barmode='group',\n",
    "        title_text='Retail Information',\n",
    "        template='ggplot2')\n",
    "\n",
    "fig.write_html(path + \"/Results/RetailInformation.html\")"
   ]
  },
  {
   "cell_type": "markdown",
   "id": "9b5fc5c8",
   "metadata": {},
   "source": [
    "## ----------------------------------------------------------------------------------------------------------------------"
   ]
  },
  {
   "cell_type": "code",
   "execution_count": null,
   "id": "1f9a9bb9",
   "metadata": {},
   "outputs": [],
   "source": [
    "broker_imbalance_cost = pd.read_csv(path + \"/BrokerImbalanceCost.csv\")\n",
    "\n",
    "group_dataframe = broker_imbalance_cost.groupby(' broker')\n",
    "group_dataframe_mean = group_dataframe.mean()\n",
    "\n",
    "imbalance_summary = pd.read_csv(path + \"/ImbalanceSummary.csv\", header=None)\n",
    "imbalance_summary = imbalance_summary.iloc[2:,:-3]\n",
    "new_header = imbalance_summary.iloc[0]\n",
    "imbalance_summary = imbalance_summary[1:]\n",
    "imbalance_summary.columns = new_header\n",
    "\n",
    "imbalance_summary.iloc[:,1:] = imbalance_summary.iloc[:,1:].apply(pd.to_numeric)"
   ]
  },
  {
   "cell_type": "code",
   "execution_count": null,
   "id": "5f56f9cc",
   "metadata": {},
   "outputs": [],
   "source": [
    "list_of_brokers = imbalance_summary['broker'].tolist()\n",
    "\n",
    "num_rows = 1\n",
    "num_cols = 2\n",
    "\n",
    "fig = make_subplots(rows=num_rows, \n",
    "                    cols=num_cols,\n",
    "                    subplot_titles=('Consumption Price Comparison', 'Production Price Comparison'))\n",
    "\n",
    "mean_mkt_qty = group_dataframe_mean[' mktQty']*(-1)\n",
    "mean_mkt_cost = group_dataframe_mean[' mktCost']\n",
    "unit_mkt_price = [abs((c/q)*1000) if q != 0 else -1 for c,q in zip(mean_mkt_cost, mean_mkt_qty)]\n",
    "\n",
    "unit_con_price = [abs((c/q)*1000) if q != 0 else -1 for c,q in zip(imbalance_summary['c_revenue'], imbalance_summary['c'])]\n",
    "unit_pro_price = [abs((c/q)*1000) if q != 0 else -1 for c,q in zip(imbalance_summary['p_revenue'], imbalance_summary['p'])]\n",
    "\n",
    "trace1 = go.Bar(name='unit_wholesale_cost', x=list(group_dataframe.groups.keys()), y=unit_mkt_price, marker_color=color_book.get('mkt_cost'))\n",
    "trace2 = go.Bar(name='unit_retail_con_cost', x=list_of_brokers, y=unit_con_price, marker_color=color_book.get('imb_qty'))\n",
    "trace3 = go.Bar(name='unit_retail_prod_cost', x=list_of_brokers, y=unit_pro_price, marker_color=color_book.get('imb_qty'))\n",
    "\n",
    "fig.append_trace(trace1, row = 1, col = 1)\n",
    "fig.append_trace(trace2, row = 1, col = 1)\n",
    "fig.append_trace(trace1, row = 1, col = 2)\n",
    "fig.append_trace(trace3, row = 1, col = 2)\n",
    "\n",
    "fig.update_yaxes(title_text=\"Price ($/MWh)\")\n",
    "fig.update_traces(marker_line_color='black', marker_line_width=0.5)\n",
    "\n",
    "for i in fig['layout']['annotations']:\n",
    "        i['font'] = dict(size=14)\n",
    "        \n",
    "fig.update_layout(\n",
    "        height=750, \n",
    "        width=1550, \n",
    "        barmode='group',\n",
    "        title_text='Per Unit Retail and Wholesale Price Comparison',\n",
    "        template='ggplot2')\n",
    "\n",
    "fig.write_html(path + \"/Results/TariffWholesalePriceComparison.html\")"
   ]
  },
  {
   "cell_type": "markdown",
   "id": "3717bfe7",
   "metadata": {},
   "source": [
    "## ----------------------------------------------------------------------------------------------------------------------"
   ]
  },
  {
   "cell_type": "code",
   "execution_count": null,
   "id": "77684e37",
   "metadata": {},
   "outputs": [],
   "source": [
    "imbalance_stats = pd.read_csv(path + \"/ImbalanceStats.csv\")\n",
    "columns = imbalance_stats.columns.tolist()\n",
    "[columns.remove(x) for x in ['game-id', 'timeslot','consumption']]"
   ]
  },
  {
   "cell_type": "code",
   "execution_count": null,
   "id": "3b389f18",
   "metadata": {},
   "outputs": [],
   "source": [
    "fig = px.line(imbalance_stats, x='timeslot', y=columns)\n",
    "\n",
    "fig.update_yaxes(title_text=\"Quantity (MWh)\")\n",
    "fig.update_xaxes(title_text=\"Timeslot\")\n",
    "\n",
    "fig.update_layout(\n",
    "    height=750, \n",
    "    width=1500, \n",
    "    title_text='Broker and Net Imbalance Information',\n",
    "    template='ggplot2',\n",
    ")\n",
    "\n",
    "for i in fig['layout']['annotations']:\n",
    "    i['font'] = dict(size=14)\n",
    "\n",
    "fig.write_html(path + \"/Results/ImbalanceComparison.html\")"
   ]
  },
  {
   "cell_type": "markdown",
   "id": "69f1cae9",
   "metadata": {},
   "source": [
    "## ----------------------------------------------------------------------------------------------------------------------"
   ]
  },
  {
   "cell_type": "code",
   "execution_count": null,
   "id": "5825f874",
   "metadata": {},
   "outputs": [],
   "source": [
    "imbalace_cost_analysis = pd.read_csv(path + \"/ImbalanceCostAnalysis.csv\", delimiter=\";\")"
   ]
  },
  {
   "cell_type": "code",
   "execution_count": null,
   "id": "7a160e32",
   "metadata": {},
   "outputs": [],
   "source": [
    "num_rows = 3\n",
    "num_cols = 1\n",
    "\n",
    "fig = make_subplots(rows=num_rows, \n",
    "                    cols=num_cols,\n",
    "                    subplot_titles=('Net Imbalance', 'Imbalance Price', 'Ratio of Balacing and Mean Boot Price'),\n",
    "                    vertical_spacing=0.10)\n",
    "\n",
    "\n",
    "fig.append_trace(go.Scatter(x = imbalace_cost_analysis['ts'], y = imbalace_cost_analysis[' imb'], name = 'imbalance'), row = 1, col = 1)\n",
    "fig.append_trace(go.Scatter(x = imbalace_cost_analysis['ts'], y = imbalace_cost_analysis[' imb-price']*1000, name = 'price'), row = 2, col = 1)\n",
    "fig.append_trace(go.Scatter(x = imbalace_cost_analysis['ts'], y = imbalace_cost_analysis[' ratio'], name = 'ratio'), row = 3, col = 1)\n",
    "\n",
    "fig.update_yaxes(title_text=\"Demand (MWh)\", row = 1)\n",
    "fig.update_yaxes(title_text=\"Price ($/MWh)\", row = 2)\n",
    "fig.update_xaxes(title_text=\"Timeslot\", row = 3)\n",
    "\n",
    "fig.update_layout(height=750, width=1500, title_text='Imbalance Cost Analysis', template='ggplot2')\n",
    "\n",
    "for i in fig['layout']['annotations']:\n",
    "    i['font'] = dict(size=14)\n",
    "\n",
    "fig.write_html(path + \"/Results/ImbalanceCostAnalysis.html\")"
   ]
  },
  {
   "cell_type": "markdown",
   "id": "e2c86752",
   "metadata": {},
   "source": [
    "## ----------------------------------------------------------------------------------------------------------------------"
   ]
  },
  {
   "cell_type": "markdown",
   "id": "ee8da0d7",
   "metadata": {},
   "source": [
    "CapacityValidator"
   ]
  }
 ],
 "metadata": {
  "kernelspec": {
   "display_name": "Python 3",
   "language": "python",
   "name": "python3"
  },
  "language_info": {
   "codemirror_mode": {
    "name": "ipython",
    "version": 3
   },
   "file_extension": ".py",
   "mimetype": "text/x-python",
   "name": "python",
   "nbconvert_exporter": "python",
   "pygments_lexer": "ipython3",
   "version": "3.8.8"
  }
 },
 "nbformat": 4,
 "nbformat_minor": 5
}
