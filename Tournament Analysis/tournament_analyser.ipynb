{
 "cells": [
  {
   "cell_type": "code",
   "execution_count": null,
   "metadata": {},
   "outputs": [],
   "source": [
    "import numpy as np\n",
    "import pandas as pd\n",
    "\n",
    "pd.set_option('max_columns', None)\n",
    "pd.set_option(\"max_rows\", None)"
   ]
  },
  {
   "cell_type": "code",
   "execution_count": null,
   "metadata": {
    "scrolled": true
   },
   "outputs": [],
   "source": [
    "file = pd.read_csv('games_finals_2021.csv')"
   ]
  },
  {
   "cell_type": "code",
   "execution_count": null,
   "metadata": {},
   "outputs": [],
   "source": [
    "features = ['gameName', 'gameSize', 'COLDPOWER2021', 'CrocodileAgent2020', 'IS3', 'Mertacor2021', 'TUC_TAC', 'UTA_PTA2021', 'VidyutVanika']\n",
    "brokers = ['COLDPOWER2021', 'CrocodileAgent2020', 'IS3', 'Mertacor2021', 'TUC_TAC', 'UTA_PTA2021', 'VidyutVanika']\n",
    "leaderBoard = file[features]"
   ]
  },
  {
   "cell_type": "code",
   "execution_count": null,
   "metadata": {},
   "outputs": [],
   "source": [
    "players3_leaderBoard = leaderBoard.loc[leaderBoard['gameSize']==3]\n",
    "players5_leaderBoard = leaderBoard.loc[leaderBoard['gameSize']==5]\n",
    "players7_leaderBoard = leaderBoard.loc[leaderBoard['gameSize']==7]"
   ]
  },
  {
   "cell_type": "code",
   "execution_count": null,
   "metadata": {},
   "outputs": [],
   "source": [
    "players3_leaderBoard.to_csv(\"players3_leaderBoard.csv\")\n",
    "players5_leaderBoard.to_csv(\"players5_leaderBoard.csv\")\n",
    "players7_leaderBoard.to_csv(\"players7_leaderBoard.csv\")"
   ]
  },
  {
   "cell_type": "code",
   "execution_count": null,
   "metadata": {
    "scrolled": true
   },
   "outputs": [],
   "source": [
    "def analyse_rank(df, broker):\n",
    "    \n",
    "    df = df[['gameName', 'COLDPOWER2021', 'CrocodileAgent2020', 'IS3', 'Mertacor2021', 'TUC_TAC', 'UTA_PTA2021', 'VidyutVanika']]\n",
    "    df1 = df.loc[df[broker].notnull()]\n",
    "    df1 = df1.fillna(-1e15)\n",
    "\n",
    "    df1 = df1.set_index(\"gameName\")\n",
    "    idx = df1.values.argsort(axis=1)\n",
    "    arank = pd.DataFrame(df1.columns.to_numpy()[idx], index=df1.index)\n",
    "    \n",
    "    print(broker, \"finished at 1st position\", arank[6].tolist().count(broker), \"times out of\", df[broker].count())\n",
    "    print(broker, \"finished at 2nd position\", arank[5].tolist().count(broker), \"times out of\", df[broker].count())\n",
    "    print(broker, \"finished at 3rd position\", arank[4].tolist().count(broker), \"times out of\", df[broker].count())\n",
    "    # print(broker, \"finished at 4th position\", arank[3].tolist().count(broker), \"times out of\", df[broker].count())\n",
    "    # print(broker, \"finished at 5th position\", arank[2].tolist().count(broker), \"times out of\", df[broker].count())\n",
    "    # print(broker, \"finished at 6th position\", arank[1].tolist().count(broker), \"times out of\", df[broker].count())\n",
    "    # print(broker, \"finished at 7th position\", arank[0].tolist().count(broker), \"times out of\", df[broker].count(), \"\\n\")"
   ]
  },
  {
   "cell_type": "code",
   "execution_count": null,
   "metadata": {
    "scrolled": true
   },
   "outputs": [],
   "source": [
    "def analyse_negetive(df, broker):\n",
    "    \n",
    "    df = df[['gameName', 'COLDPOWER2021', 'CrocodileAgent2020', 'IS3', 'Mertacor2021', 'TUC_TAC', 'UTA_PTA2021', 'VidyutVanika']]\n",
    "    df1 = df.loc[df[broker].notnull()]\n",
    "    df1 = df1.fillna(0)\n",
    "    print(broker, \":\" , df1.loc[df1[broker]<0][broker].count(), \"negative cash-positions in\", df[broker].count(), \"games !\")"
   ]
  },
  {
   "cell_type": "code",
   "execution_count": null,
   "metadata": {},
   "outputs": [],
   "source": [
    "df = players7_leaderBoard\n",
    "\n",
    "for broker in brokers:\n",
    "    analyse_rank(df, broker)\n",
    "    analyse_negetive(df, broker)\n",
    "    print(\"\\n\", \"#\"*50, \"\\n\")"
   ]
  },
  {
   "cell_type": "code",
   "execution_count": null,
   "metadata": {},
   "outputs": [],
   "source": [
    "df = players5_leaderBoard\n",
    "\n",
    "for broker in brokers:\n",
    "    analyse_rank(df, broker)\n",
    "    analyse_negetive(df, broker)\n",
    "    print(\"\\n\", \"#\"*50, \"\\n\")"
   ]
  },
  {
   "cell_type": "code",
   "execution_count": null,
   "metadata": {},
   "outputs": [],
   "source": [
    "df = players3_leaderBoard\n",
    "\n",
    "for broker in brokers:\n",
    "    analyse_rank(df, broker)\n",
    "    analyse_negetive(df, broker)\n",
    "    print(\"\\n\", \"#\"*50, \"\\n\")"
   ]
  }
 ],
 "metadata": {
  "kernelspec": {
   "display_name": "Python 3",
   "language": "python",
   "name": "python3"
  },
  "language_info": {
   "codemirror_mode": {
    "name": "ipython",
    "version": 3
   },
   "file_extension": ".py",
   "mimetype": "text/x-python",
   "name": "python",
   "nbconvert_exporter": "python",
   "pygments_lexer": "ipython3",
   "version": "3.8.8"
  }
 },
 "nbformat": 4,
 "nbformat_minor": 2
}
