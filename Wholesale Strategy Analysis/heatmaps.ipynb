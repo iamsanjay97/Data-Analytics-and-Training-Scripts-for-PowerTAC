{
 "cells": [
  {
   "cell_type": "code",
   "execution_count": null,
   "id": "a271e34c",
   "metadata": {},
   "outputs": [],
   "source": [
    "import sys\n",
    "sys.path.insert(1, '/mnt/d/PowerTAC/Python/python_utils/helper') "
   ]
  },
  {
   "cell_type": "code",
   "execution_count": null,
   "id": "e52b4820",
   "metadata": {},
   "outputs": [],
   "source": [
    "import numpy as np\n",
    "import pandas as pd\n",
    "import seaborn as sns\n",
    "import plotly.express as px\n",
    "import plotly.graph_objects as go\n",
    "\n",
    "from statistics import mean\n",
    "from matplotlib import pyplot as plt\n",
    "from plotly.subplots import make_subplots\n",
    "from read_mongo_collection import HelperToReadMongo\n",
    "\n",
    "sns.set_theme(style=\"darkgrid\")\n",
    "\n",
    "# See complete data\n",
    "pd.set_option('max_columns', None)\n",
    "pd.set_option(\"max_rows\", None)\n",
    "np.set_printoptions(threshold=np.inf)"
   ]
  },
  {
   "cell_type": "code",
   "execution_count": null,
   "id": "e0e8a573",
   "metadata": {
    "scrolled": true
   },
   "outputs": [],
   "source": [
    "helper_mongo = HelperToReadMongo()"
   ]
  },
  {
   "cell_type": "code",
   "execution_count": null,
   "id": "1812fef0",
   "metadata": {},
   "outputs": [],
   "source": [
    "rename_col = {\"MCP\": \"Price\", \"LimitPrice\": \"Price\" , \"Net_Cleared_Quantity\": \"Quantity\", \\\n",
    "              \"Broker's_Cleared_Quantity\": \"Quantity\", \"Broker's_Bidded_Quantity\": \"Quantity\", \\\n",
    "              \"Market_Position\": \"Quantity\"}"
   ]
  },
  {
   "cell_type": "code",
   "execution_count": null,
   "id": "98452fd0",
   "metadata": {},
   "outputs": [],
   "source": [
    "color_book = {'VV21': 'darkorchid', 'VidyutVanika': 'slateblue', 'VV20': 'slateblue', 'VidyutVanika18': 'yellowgreen', 'VV18': 'yellowgreen', \\\n",
    "              'Sample': 'orchid', 'AgentUDE': 'slategray', 'SPOT': 'orangered', 'TUC_TAC': 'gold', 'MCP': 'red'}\n",
    "\n",
    "def get_colors(list_of_brokers):\n",
    "    return [color_book.get(broker) for broker in list_of_brokers]"
   ]
  },
  {
   "cell_type": "markdown",
   "id": "ef3dfb3f",
   "metadata": {},
   "source": [
    "# Data Processing"
   ]
  },
  {
   "cell_type": "code",
   "execution_count": null,
   "id": "2a6ae164",
   "metadata": {},
   "outputs": [],
   "source": [
    "# Specify names of all the databases here\n",
    "list_of_databases = ['PowerTAC2020_Wholesale_Test_VV21_2', 'PowerTAC2020_Wholesale_Test_VV18_2']\n",
    "\n",
    "# Specify names of all the brokers corresponding to databases here\n",
    "list_of_brokers = ['VV21', 'VV18']\n",
    "\n",
    "# Specify list of the collections to be analysed here\n",
    "# list_of_collections = helper_mongo.connect_to_mongo('PowerTAC2020_Wholesale_Test_VV21').list_collection_names()\n",
    "list_of_collections = ['MarketTransaction_Info', 'Submitted_Bid_Information', 'ClearedTrade_Info']\n",
    "\n",
    "# Specify the storage path along with directory\n",
    "storage_path = '/mnt/d/PowerTAC/PowerTAC2021/experiments/wholesale_strategy_check/test'\n",
    "\n",
    "# Keep all the collections at one place\n",
    "dict_of_dataframes = dict()"
   ]
  },
  {
   "cell_type": "code",
   "execution_count": null,
   "id": "bfcf2037",
   "metadata": {
    "scrolled": true
   },
   "outputs": [],
   "source": [
    "# View the Collections in all the databases\n",
    "\n",
    "def view_collections(list_of_databases):\n",
    "    \n",
    "    for database in list_of_databases:\n",
    "        \n",
    "        db = helper_mongo.connect_to_mongo(database, server_ip='10.2.16.159', ssh_username='powertac', \\\n",
    "                                           ssh_password='sanjay9397', remote=True)\n",
    "        print(database + \"\\n\" + \"-\"*35)\n",
    "        print(db.list_collection_names())\n",
    "        print(\"\\n\")\n",
    "\n",
    "# Function Calling\n",
    "view_collections(list_of_databases)"
   ]
  },
  {
   "cell_type": "code",
   "execution_count": null,
   "id": "62ef08e5",
   "metadata": {},
   "outputs": [],
   "source": [
    "for dataset, broker in zip(list_of_databases, list_of_brokers):\n",
    "    \n",
    "    inner_dict = dict()\n",
    "        \n",
    "    for collection in list_of_collections:\n",
    "        \n",
    "        db = helper_mongo.query_to_mongo(dataset, collection, server_ip='10.2.16.159', ssh_username='powertac', \\\n",
    "                                         ssh_password='sanjay9397', remote=True)\n",
    "        db.rename(columns = rename_col, inplace = True)\n",
    "        \n",
    "        db = db[abs(db['Quantity']) > 0.05] \n",
    "        # if (collection != 'ClearedTrade_Info'):\n",
    "        #    # consider only bids\n",
    "        #    db = db[db['Price'] < 0.0]\n",
    "        \n",
    "        if collection != 'Cash_and_Market_Position_Info':\n",
    "            db['Proximity'] = db['Execution_Timeslot'] - db['Bidding_Timeslot']\n",
    "            \n",
    "        inner_dict.update({collection: db})\n",
    "                \n",
    "    dict_of_dataframes.update({broker: inner_dict})"
   ]
  },
  {
   "cell_type": "code",
   "execution_count": null,
   "id": "751c732f",
   "metadata": {},
   "outputs": [],
   "source": [
    "test_database = dict_of_dataframes.get('VV21').get('MarketTransaction_Info').copy(deep=True)\n",
    "num_games = len(test_database.Game_Name.unique())"
   ]
  },
  {
   "cell_type": "markdown",
   "id": "40d47656",
   "metadata": {},
   "source": [
    "# Analysis and Plotting"
   ]
  },
  {
   "cell_type": "markdown",
   "id": "751c7e09",
   "metadata": {},
   "source": [
    "### Limit-price and Clearing-price Comparison "
   ]
  },
  {
   "cell_type": "code",
   "execution_count": null,
   "id": "75e1481f",
   "metadata": {
    "scrolled": true
   },
   "outputs": [],
   "source": [
    "###############################################\n",
    "############ Plot using Plotly ################\n",
    "###############################################\n",
    "    \n",
    "def limitprice_vs_mcp_plotly():    \n",
    "    \n",
    "    num_rows = 4\n",
    "    num_cols = 1\n",
    "    \n",
    "    fig = make_subplots(rows=num_rows, \n",
    "                        cols=num_cols,\n",
    "                        subplot_titles=('Overall Limit-price Comparison', 'Limit-price Comparsion (When Bids get Cleared)', 'Clearing-price Comparsion', 'MCP'),\n",
    "                        vertical_spacing=0.10)\n",
    "                    \n",
    "    for broker, i in zip(list_of_brokers, range(1, len(list_of_brokers)+1)):\n",
    "        \n",
    "        db_sb = dict_of_dataframes.get(broker).get('Submitted_Bid_Information').copy(deep=True)\n",
    "        db_mt = dict_of_dataframes.get(broker).get('MarketTransaction_Info').copy(deep=True)\n",
    "        \n",
    "        groupby_db_sb = (db_sb.groupby(['Game_Name', 'Execution_Timeslot']).mean()).groupby('Execution_Timeslot').mean()\n",
    "        cp_sb = abs(groupby_db_sb['Price'])\n",
    "\n",
    "        db = pd.merge(db_sb, db_mt,  how='right', \n",
    "                             left_on=['Game_Name', 'Bidding_Timeslot','Execution_Timeslot'], \n",
    "                             right_on = ['Game_Name', 'Bidding_Timeslot','Execution_Timeslot'])\n",
    "\n",
    "        db = db[db['Price_y'] < 0.0] \n",
    "        groupby_db = (db.groupby(['Game_Name', 'Execution_Timeslot']).mean()).groupby('Execution_Timeslot').mean()\n",
    "        lp = abs(groupby_db['Price_x'])\n",
    "        cp = abs(groupby_db['Price_y'])    \n",
    "    \n",
    "        fig.append_trace(go.Scatter(x = cp_sb.index.tolist(),\n",
    "                                    y = cp_sb, \n",
    "                                    name = broker,\n",
    "                                    line=dict(color=color_book.get(broker)),\n",
    "                                    legendgroup = 1\n",
    "                                   ), row = 1, col = 1)\n",
    "        \n",
    "        fig.append_trace(go.Scatter(x = lp.index.tolist(),\n",
    "                                    y = lp, \n",
    "                                    name = broker,\n",
    "                                    line=dict(color=color_book.get(broker)),\n",
    "                                    legendgroup = 1,\n",
    "                                    showlegend=False\n",
    "                                   ), row = 2, col = 1)\n",
    "        \n",
    "        fig.append_trace(go.Scatter(x = cp.index.tolist(),\n",
    "                                    y = cp, \n",
    "                                    name = broker,\n",
    "                                    line=dict(color=color_book.get(broker)),\n",
    "                                    legendgroup = 2,\n",
    "                                    showlegend=False\n",
    "                                   ), row = 3, col = 1)\n",
    "            \n",
    "    db_ct = dict_of_dataframes.get('VV21').get('ClearedTrade_Info').copy(deep=True)\n",
    "    groupby_db_ct = (db_ct.groupby(['Game_Name', 'Execution_Timeslot']).mean()).groupby('Execution_Timeslot').mean()\n",
    "    cp_ct = groupby_db_ct['Price']\n",
    "    \n",
    "    fig.append_trace(go.Scatter(x = cp_ct.index.tolist(),\n",
    "                                y = cp_ct, \n",
    "                                name = 'MCP',\n",
    "                                line=dict(color=color_book.get('MCP')),\n",
    "                                legendgroup = 1,\n",
    "                               ), row = 4, col = 1)\n",
    "    \n",
    "    fig.update_yaxes(title_text=\"Price ($)\")\n",
    "    fig.update_xaxes(title_text=\"Timeslot\", row = 4, col = 1)\n",
    "    \n",
    "    fig.update_layout(\n",
    "        height=750, \n",
    "        width=1500, \n",
    "        template='ggplot2',\n",
    "    )\n",
    "    \n",
    "    for i in fig['layout']['annotations']:\n",
    "        i['font'] = dict(size=14)\n",
    "    \n",
    "    fig.write_html(storage_path + \"/limitprice_vs_mcp_comparison.html\")\n",
    "    \n",
    "###############################################\n",
    "############### Function Call #################\n",
    "###############################################    \n",
    "    \n",
    "limitprice_vs_mcp_plotly()"
   ]
  },
  {
   "cell_type": "markdown",
   "id": "c497ec0c",
   "metadata": {},
   "source": [
    "### Limit-price and MCP Heat-map "
   ]
  },
  {
   "cell_type": "code",
   "execution_count": null,
   "id": "788a13ef",
   "metadata": {
    "scrolled": true
   },
   "outputs": [],
   "source": [
    "###############################################\n",
    "############ Plot using Plotly ################\n",
    "###############################################\n",
    "    \n",
    "def limitprice_vs_mcp_heatmap_plotly():    \n",
    "    \n",
    "    num_rows = 1\n",
    "    num_cols = 1\n",
    "    \n",
    "    fig = make_subplots(rows=num_rows, \n",
    "                        cols=num_cols,\n",
    "                        vertical_spacing=0.10)\n",
    "                    \n",
    "#     for broker, i in zip(list_of_brokers, range(1, len(list_of_brokers)+1)):\n",
    "        \n",
    "#         db_sb = dict_of_dataframes.get(broker).get('Submitted_Bid_Information').copy(deep=True)\n",
    "#         db_mt = dict_of_dataframes.get(broker).get('MarketTransaction_Info').copy(deep=True)\n",
    "        \n",
    "#         groupby_db_sb = (db_sb.groupby(['Game_Name', 'Execution_Timeslot']).mean()).groupby('Execution_Timeslot').mean()\n",
    "#         cp_sb = abs(groupby_db_sb['Price'])\n",
    "\n",
    "#         db = pd.merge(db_sb, db_mt,  how='right', \n",
    "#                              left_on=['Game_Name', 'Bidding_Timeslot','Execution_Timeslot'], \n",
    "#                              right_on = ['Game_Name', 'Bidding_Timeslot','Execution_Timeslot'])\n",
    "\n",
    "#         db = db[db['Price_y'] < 0.0] \n",
    "#         groupby_db = (db.groupby(['Game_Name', 'Execution_Timeslot']).mean()).groupby('Execution_Timeslot').mean()\n",
    "#         lp = abs(groupby_db['Price_x'])\n",
    "#         cp = abs(groupby_db['Price_y'])    \n",
    "    \n",
    "#         fig.append_trace(go.Scatter(x = cp_sb.index.tolist(),\n",
    "#                                     y = cp_sb, \n",
    "#                                     name = broker,\n",
    "#                                     line=dict(color=color_book.get(broker)),\n",
    "#                                     legendgroup = 1\n",
    "#                                    ), row = 1, col = 1)\n",
    "        \n",
    "#         fig.append_trace(go.Scatter(x = lp.index.tolist(),\n",
    "#                                     y = lp, \n",
    "#                                     name = broker,\n",
    "#                                     line=dict(color=color_book.get(broker)),\n",
    "#                                     legendgroup = 1,\n",
    "#                                     showlegend=False\n",
    "#                                    ), row = 2, col = 1)\n",
    "        \n",
    "#         fig.append_trace(go.Scatter(x = cp.index.tolist(),\n",
    "#                                     y = cp, \n",
    "#                                     name = broker,\n",
    "#                                     line=dict(color=color_book.get(broker)),\n",
    "#                                     legendgroup = 2,\n",
    "#                                     showlegend=False\n",
    "#                                    ), row = 3, col = 1)\n",
    "            \n",
    "    db_ct = dict_of_dataframes.get('VV21').get('ClearedTrade_Info').copy(deep=True)\n",
    "    groupby_db_ct = (db_ct.groupby(['Game_Name', 'Execution_Timeslot']).mean()).groupby('Execution_Timeslot').mean()\n",
    "    cp_ct = groupby_db_ct['Price']\n",
    "    \n",
    "    fig.append_trace(go.Scatter(x = cp_ct.index.tolist(),\n",
    "                                y = cp_ct, \n",
    "                                name = 'MCP',\n",
    "                                line=dict(color=color_book.get('MCP')),\n",
    "                                legendgroup = 1,\n",
    "                               ), row = 4, col = 1)\n",
    "    \n",
    "    fig.update_yaxes(title_text=\"Price ($)\")\n",
    "    fig.update_xaxes(title_text=\"Timeslot\", row = 4, col = 1)\n",
    "    \n",
    "    fig.update_layout(\n",
    "        height=750, \n",
    "        width=1500, \n",
    "        template='ggplot2',\n",
    "    )\n",
    "    \n",
    "    for i in fig['layout']['annotations']:\n",
    "        i['font'] = dict(size=14)\n",
    "    \n",
    "    fig.write_html(storage_path + \"/limitprice_vs_mcp_heatmap.html\")\n",
    "    \n",
    "###############################################\n",
    "############### Function Call #################\n",
    "###############################################    \n",
    "    \n",
    "limitprice_vs_mcp_heatmap_plotly()"
   ]
  },
  {
   "cell_type": "code",
   "execution_count": null,
   "id": "dfd543c5",
   "metadata": {},
   "outputs": [],
   "source": [
    "db_ct = dict_of_dataframes.get('VV21').get('ClearedTrade_Info').copy(deep=True)\n",
    "db_ct = db_ct[db_ct['Game_Name'] == 'finals_2019_07_10_2947'][['Proximity', 'Execution_Timeslot', 'Price', 'Quantity']]\n",
    "out = db_ct.groupby('Execution_Timeslot').Price.apply(list).reset_index()\n",
    "out = np.array(out['Price'][24:-24])"
   ]
  },
  {
   "cell_type": "code",
   "execution_count": null,
   "id": "879129b8",
   "metadata": {},
   "outputs": [],
   "source": [
    "b_out = np.zeros((24,1))\n",
    "\n",
    "for i in out:\n",
    "    a = np.array(i).reshape(-1,1)\n",
    "    if a.shape[0] == 24:\n",
    "        b_out = np.append(b_out, a, axis=1)\n",
    "    \n",
    "b_out.shape"
   ]
  }
 ],
 "metadata": {
  "interpreter": {
   "hash": "b3ba2566441a7c06988d0923437866b63cedc61552a5af99d1f4fb67d367b25f"
  },
  "kernelspec": {
   "display_name": "Python 3",
   "language": "python",
   "name": "python3"
  },
  "language_info": {
   "codemirror_mode": {
    "name": "ipython",
    "version": 3
   },
   "file_extension": ".py",
   "mimetype": "text/x-python",
   "name": "python",
   "nbconvert_exporter": "python",
   "pygments_lexer": "ipython3",
   "version": "3.8.8"
  }
 },
 "nbformat": 4,
 "nbformat_minor": 5
}
