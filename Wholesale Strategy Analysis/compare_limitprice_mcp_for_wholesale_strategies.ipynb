{
 "cells": [
  {
   "cell_type": "code",
   "execution_count": null,
   "id": "a271e34c",
   "metadata": {},
   "outputs": [],
   "source": [
    "import os\n",
    "import sys\n",
    "sys.path.insert(1, '/mnt/d/PowerTAC/Python/python_utils/helper')  # For Jupyter notebook\n",
    "# sys.path.insert(1, 'D:\\PowerTAC\\Python\\python_utils\\helper')  # For VS code"
   ]
  },
  {
   "cell_type": "code",
   "execution_count": null,
   "id": "e52b4820",
   "metadata": {},
   "outputs": [],
   "source": [
    "import numpy as np\n",
    "import pandas as pd\n",
    "import seaborn as sns\n",
    "import plotly.graph_objects as go\n",
    "\n",
    "from matplotlib import pyplot as plt\n",
    "from plotly.subplots import make_subplots\n",
    "from read_mongo_collection import HelperToReadMongo\n",
    "\n",
    "# Adding background to the graph (few good backgrounds below)\n",
    "plt.style.use(\"fivethirtyeight\")\n",
    "# plt.style.use(\"ggplot\")\n",
    "# plt.style.use(\"seaborn-*\")\n",
    "\n",
    "# See complete data\n",
    "pd.set_option('max_columns', None)\n",
    "pd.set_option(\"max_rows\", None)\n",
    "np.set_printoptions(threshold=np.inf)"
   ]
  },
  {
   "cell_type": "code",
   "execution_count": null,
   "id": "e0e8a573",
   "metadata": {
    "scrolled": true
   },
   "outputs": [],
   "source": [
    "helper_mongo = HelperToReadMongo()"
   ]
  },
  {
   "cell_type": "code",
   "execution_count": null,
   "id": "1812fef0",
   "metadata": {},
   "outputs": [],
   "source": [
    "rename_col = {\"MCP\": \"Price\", \"LimitPrice\": \"Price\" , \"Net_Cleared_Quantity\": \"Quantity\", \\\n",
    "              \"Broker's_Cleared_Quantity\": \"Quantity\", \"Broker's_Bidded_Quantity\": \"Quantity\"}"
   ]
  },
  {
   "cell_type": "code",
   "execution_count": null,
   "id": "98452fd0",
   "metadata": {},
   "outputs": [],
   "source": [
    "color_book = {'VV21': 'darkorchid', 'VidyutVanika': 'slateblue', 'VV20': 'slateblue', 'VidyutVanika18': 'yellowgreen', 'VV18': 'yellowgreen', \\\n",
    "              'ZI': 'orchid', 'ZIP': 'slategray', 'SPOT': 'orangered', 'TUC_TAC': 'gold', 'MCP': 'red'}"
   ]
  },
  {
   "cell_type": "markdown",
   "id": "ef3dfb3f",
   "metadata": {},
   "source": [
    "# Data Processing"
   ]
  },
  {
   "cell_type": "code",
   "execution_count": null,
   "id": "2a6ae164",
   "metadata": {},
   "outputs": [],
   "source": [
    "# Specify names of all the databases here\n",
    "list_of_databases = ['VV2110', 'VV1810', 'SPOT10', 'ZI10', 'ZIP10']\n",
    "\n",
    "# Specify names of all the brokers corresponding to databases here\n",
    "list_of_brokers = ['VV21', 'VV18', 'SPOT', 'ZI', 'ZIP']\n",
    "\n",
    "# Specify list of the collections to be analysed here\n",
    "# list_of_collections = helper_mongo.connect_to_mongo('PowerTAC2020_Wholesale_Test_VV21').list_collection_names()\n",
    "list_of_collections = ['MarketTransaction_Info', 'Submitted_Bid_Information', 'ClearedTrade_Info']\n",
    "\n",
    "# Specify the storage path along with directory\n",
    "storage_path = '/mnt/d/PowerTAC/PowerTAC2021/experiments/Wholesale_Executables/0.10_net_demand'\n",
    "# os.makedirs(storage_path, True)\n",
    "\n",
    "# Keep all the collections at one place\n",
    "dict_of_dataframes = dict()\n",
    "dict_of_aggregated_lp = dict()\n",
    "dict_of_aggregated_lq = dict()\n",
    "# dict_of_aggregated_lp_sd = dict()\n",
    "# dict_of_aggregated_lq_sd = dict()"
   ]
  },
  {
   "cell_type": "code",
   "execution_count": null,
   "id": "bfcf2037",
   "metadata": {
    "scrolled": true
   },
   "outputs": [],
   "source": [
    "# View the Collections in all the databases\n",
    "\n",
    "def view_collections(list_of_databases):\n",
    "    \n",
    "    for database in list_of_databases:\n",
    "        \n",
    "        db = helper_mongo.connect_to_mongo(database, server_ip='10.2.16.159', ssh_username='powertac', \\\n",
    "                                           ssh_password='sanjay9397', remote=True)\n",
    "        print(database + \"\\n\" + \"-\"*35)\n",
    "        print(db.list_collection_names())\n",
    "        print(\"\\n\")\n",
    "\n",
    "# Function Calling\n",
    "view_collections(list_of_databases)"
   ]
  },
  {
   "cell_type": "code",
   "execution_count": null,
   "id": "62ef08e5",
   "metadata": {},
   "outputs": [],
   "source": [
    "for dataset, broker in zip(list_of_databases, list_of_brokers):\n",
    "    \n",
    "    inner_dict = dict()\n",
    "    inner_dict_lp = dict()\n",
    "    inner_dict_lq = dict()\n",
    "    # inner_dict_lp_sd = dict()\n",
    "    # inner_dict_lq_sd = dict()\n",
    "        \n",
    "    for collection in list_of_collections:\n",
    "        \n",
    "        db = helper_mongo.query_to_mongo(dataset, collection, server_ip='10.2.16.159', ssh_username='powertac', \\\n",
    "                                         ssh_password='sanjay9397', remote=True)\n",
    "        db.rename(columns = rename_col, inplace = True)\n",
    "        \n",
    "        if (collection != 'ClearedTrade_Info'):\n",
    "            # consider only bids\n",
    "            db = db[db['Price'] < 0.0]\n",
    "            db = db[abs(db['Quantity']) > 0.001]\n",
    "            \n",
    "        db['Proximity'] = db['Execution_Timeslot'] - db['Bidding_Timeslot']\n",
    "        groupby_db = db.groupby('Proximity')\n",
    "        \n",
    "        lp = abs(groupby_db['Price'].mean())\n",
    "        lq = abs(groupby_db['Quantity'].sum())\n",
    "        # lp_sd = groupby_db['Price'].std()\n",
    "        # lq_sd = groupby_db['Quantity'].std()\n",
    "                    \n",
    "        inner_dict.update({collection: db})\n",
    "        inner_dict_lp.update({collection: lp})\n",
    "        inner_dict_lq.update({collection: lq})\n",
    "        # inner_dict_lp_sd.update({collection: lp_sd})\n",
    "        # inner_dict_lq_sd.update({collection: lq_sd})\n",
    "                \n",
    "    dict_of_dataframes.update({broker: inner_dict})\n",
    "    dict_of_aggregated_lp.update({broker: inner_dict_lp})\n",
    "    dict_of_aggregated_lq.update({broker: inner_dict_lq})\n",
    "    # dict_of_aggregated_lp_sd.update({broker: inner_dict_lp_sd})\n",
    "    # dict_of_aggregated_lq_sd.update({broker: inner_dict_lq_sd})\n"
   ]
  },
  {
   "cell_type": "markdown",
   "id": "40d47656",
   "metadata": {},
   "source": [
    "# Analysis and Plotting"
   ]
  },
  {
   "cell_type": "code",
   "execution_count": null,
   "id": "8b551dbf",
   "metadata": {},
   "outputs": [],
   "source": [
    "num_rows = 1\n",
    "num_cols = 3\n",
    "\n",
    "fig, axes = plt.subplots(nrows=num_rows, ncols=num_cols, figsize=(18,8))\n",
    "fig.tight_layout(pad=5)\n",
    "       \n",
    "axes[0].set_title(\"Clearing-price Comparison\")\n",
    "axes[1].set_title(\"Limit-price Comparison\")\n",
    "axes[2].set_title(\"MCP Comparison\")\n",
    "\n",
    "for col in range(num_cols):\n",
    "    axes[col].set_ylabel(\"Price\")\n",
    "    axes[col].set_xlabel('Proximity')\n",
    "        \n",
    "for broker in list_of_brokers:\n",
    "    for col, i in zip(list_of_collections, range(num_cols)):\n",
    "        data = dict_of_aggregated_lp.get(broker).get(col)\n",
    "        # data_sd = dict_of_aggregated_lp_sd.get(broker).get(col)\n",
    "        axes[i].plot(data, label=broker)\n",
    "        # axes[i].fill_between(np.arange(1,data.shape[0]+1), data-data_sd, data+data_sd)\n",
    "\n",
    "for col in range(num_cols):\n",
    "    axes[col].legend()\n",
    "\n",
    "plt.setp(axes, xlim=(0, 25))\n",
    "plt.savefig(storage_path + \"/overall1.jpg\")\n",
    "plt.close()"
   ]
  },
  {
   "cell_type": "code",
   "execution_count": null,
   "id": "539d6c5c",
   "metadata": {
    "scrolled": true
   },
   "outputs": [],
   "source": [
    "num_rows = 1\n",
    "num_cols = 3\n",
    "\n",
    "fig, axes = plt.subplots(nrows=num_rows, ncols=num_cols, figsize=(18,8))\n",
    "fig.tight_layout(pad=5)\n",
    "       \n",
    "axes[0].set_title(\"Clearing-quantity Comparison\")\n",
    "axes[1].set_title(\"Limitquantity Comparison\")\n",
    "\n",
    "for col in range(num_cols-1):\n",
    "    axes[col].set_ylabel(\"Quantity\")\n",
    "    axes[col].set_xlabel('Proximity')\n",
    "        \n",
    "updated_list_of_collections = list_of_collections.copy()\n",
    "updated_list_of_collections.remove('ClearedTrade_Info')\n",
    "        \n",
    "for broker in list_of_brokers:\n",
    "    for col, i in zip(updated_list_of_collections, range(num_cols-1)):            \n",
    "            \n",
    "        data = dict_of_aggregated_lq.get(broker).get(col)            \n",
    "        axes[i].plot(data, label=broker)\n",
    "        \n",
    "axes[num_cols-1].set_title(\"MCP\")\n",
    "axes[num_cols-1].plot(dict_of_aggregated_lp.get('VV21').get('ClearedTrade_Info'), label=\"MCP\")\n",
    "axes[num_cols-1].set_xlabel(\"Proximity\")\n",
    "\n",
    "for col in range(num_cols):\n",
    "    axes[col].legend()\n",
    "    \n",
    "plt.setp(axes, xlim=(0, 25))\n",
    "plt.savefig(storage_path + \"/overall2.jpg\")\n",
    "plt.close()"
   ]
  },
  {
   "cell_type": "code",
   "execution_count": null,
   "id": "bcd73fb6",
   "metadata": {},
   "outputs": [],
   "source": [
    "# num_rows = 3\n",
    "# num_cols = 2\n",
    "\n",
    "# fig = make_subplots(rows=num_rows, \n",
    "#                     cols=num_cols, \n",
    "#                     subplot_titles=('Clearing-quantity Comparison', 'Clearing-price Comparison',\n",
    "#                                     'Limit-quantity Comparison', 'Limit-price Comparison', 'MCP'))\n",
    "\n",
    "# updated_list_of_collections = list_of_collections.copy()\n",
    "# updated_list_of_collections.remove('ClearedTrade_Info')\n",
    "        \n",
    "# for broker in list_of_brokers:\n",
    "#     for col, i in zip(updated_list_of_collections, range(1,num_rows)):            \n",
    "            \n",
    "#         data = dict_of_aggregated_lq.get(broker).get(col)     \n",
    "#         fig.append_trace(go.Scatter(\n",
    "#             x = np.arange(1,25), \n",
    "#             y = data, \n",
    "#             name = broker, \n",
    "#             line=dict(color=color_book.get(broker), width=3),\n",
    "#             legendgroup = i\n",
    "#         ), row = i, col = 1)\n",
    "\n",
    "# fig.append_trace(go.Scatter(\n",
    "#     x = np.arange(1,25), \n",
    "#     y = dict_of_aggregated_lp.get('VV21').get('ClearedTrade_Info'), \n",
    "#     name = 'MCP',\n",
    "#     line=dict(color=color_book.get('MCP'), width=3),\n",
    "#     legendgroup = 3\n",
    "# ), row = num_rows, col = 1)\n",
    "\n",
    "# for broker in list_of_brokers:\n",
    "#     for col, i in zip(list_of_collections, range(1,num_rows)):            \n",
    "            \n",
    "#         data = dict_of_aggregated_lp.get(broker).get(col)     \n",
    "#         fig.append_trace(go.Scatter(\n",
    "#             x = np.arange(1,25), \n",
    "#             y = data, \n",
    "#             name = broker, \n",
    "#             line=dict(color=color_book.get(broker), width=3),\n",
    "#             legendgroup = i,\n",
    "#             showlegend=False\n",
    "#         ), row = i, col = 2)\n",
    "\n",
    "# # # Update yaxis properties\n",
    "# for row in range(num_rows):\n",
    "#     fig.update_yaxes(title_text=\"Quantity MWh\", row=row, col=1)\n",
    "\n",
    "# fig.update_yaxes(title_text=\"Price $\", row=num_rows, col=1)\n",
    "# fig.update_yaxes(title_text=\"Price $\", col=2)\n",
    "# fig.update_xaxes(title_text=\"Proximity\", range=[0, 25])\n",
    "\n",
    "# fig.update_layout(\n",
    "#     height=750, \n",
    "#     width=1400, \n",
    "#     template='ggplot2',\n",
    "#     title_text=\"Performance Comparison\", \n",
    "#     legend_tracegroupgap = 180\n",
    "# )\n",
    "\n",
    "# fig.write_html(storage_path + \"/overall.html\")"
   ]
  }
 ],
 "metadata": {
  "interpreter": {
   "hash": "b3ba2566441a7c06988d0923437866b63cedc61552a5af99d1f4fb67d367b25f"
  },
  "kernelspec": {
   "display_name": "Python 3",
   "language": "python",
   "name": "python3"
  },
  "language_info": {
   "codemirror_mode": {
    "name": "ipython",
    "version": 3
   },
   "file_extension": ".py",
   "mimetype": "text/x-python",
   "name": "python",
   "nbconvert_exporter": "python",
   "pygments_lexer": "ipython3",
   "version": "3.8.8"
  }
 },
 "nbformat": 4,
 "nbformat_minor": 5
}
