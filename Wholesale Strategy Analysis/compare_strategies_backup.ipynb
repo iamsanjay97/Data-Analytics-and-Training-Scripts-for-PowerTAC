{
 "cells": [
  {
   "cell_type": "code",
   "execution_count": null,
   "id": "8263b3ab",
   "metadata": {},
   "outputs": [],
   "source": [
    "import sys\n",
    "sys.path.insert(1, '/mnt/d/PowerTAC/Python/python_utils/helper')"
   ]
  },
  {
   "cell_type": "code",
   "execution_count": null,
   "id": "ce468931",
   "metadata": {},
   "outputs": [],
   "source": [
    "import numpy as np\n",
    "import pandas as pd\n",
    "import seaborn as sns\n",
    "\n",
    "from matplotlib import pyplot as plt\n",
    "from read_mongo_collection import HelperToReadMongo\n",
    "\n",
    "# Adding background to the graph (few good backgrounds below)\n",
    "# plt.style.use(\"fivethirtyeight\")\n",
    "plt.style.use(\"ggplot\")\n",
    "# plt.style.use(\"seaborn-*\")\n",
    "\n",
    "# See complete data\n",
    "np.set_printoptions(threshold=np.inf)"
   ]
  },
  {
   "cell_type": "code",
   "execution_count": null,
   "id": "2cd3d645",
   "metadata": {
    "scrolled": true
   },
   "outputs": [],
   "source": [
    "helper_mongo = HelperToReadMongo()"
   ]
  },
  {
   "cell_type": "code",
   "execution_count": null,
   "id": "a8899731",
   "metadata": {},
   "outputs": [],
   "source": [
    "# Specify names of all the databases here\n",
    "list_of_databases = ['PowerTAC2020_Wholesale_Test_VV21', 'PowerTAC2020_Wholesale_Test_VV18']"
   ]
  },
  {
   "cell_type": "code",
   "execution_count": null,
   "id": "3bf4b247",
   "metadata": {
    "scrolled": false
   },
   "outputs": [],
   "source": [
    "# View the Collections in all the databases\n",
    "\n",
    "def view_collections(list_of_databases):\n",
    "    \n",
    "    for database in list_of_databases:\n",
    "        \n",
    "        db = helper_mongo.connect_to_mongo(database)\n",
    "        print(database + \"\\n\" + \"-\"*35)\n",
    "        print(db.list_collection_names())\n",
    "        print(\"\\n\")\n",
    "\n",
    "# Function Calling\n",
    "view_collections(list_of_databases)"
   ]
  },
  {
   "cell_type": "code",
   "execution_count": null,
   "id": "e553d90b",
   "metadata": {},
   "outputs": [],
   "source": [
    "vv21_submitted_bids =  helper_mongo.query_to_mongo('PowerTAC2020_Wholesale_Test_VV21', 'Submitted_Bid_Information')\n",
    "vv18_submitted_bids =  helper_mongo.query_to_mongo('PowerTAC2020_Wholesale_Test_VV18', 'Submitted_Bid_Information')\n",
    "\n",
    "# consider only bids\n",
    "vv21_submitted_bids = vv21_submitted_bids[vv21_submitted_bids['LimitPrice'] < 0.0]\n",
    "vv18_submitted_bids = vv18_submitted_bids[vv18_submitted_bids['LimitPrice'] < 0.0]"
   ]
  },
  {
   "cell_type": "code",
   "execution_count": null,
   "id": "31ce005e",
   "metadata": {},
   "outputs": [],
   "source": [
    "vv21_market_clearing =  helper_mongo.query_to_mongo('PowerTAC2020_Wholesale_Test_VV21', 'MarketTransaction_Info')\n",
    "vv18_market_clearing =  helper_mongo.query_to_mongo('PowerTAC2020_Wholesale_Test_VV18', 'MarketTransaction_Info')\n",
    "\n",
    "# consider only bids\n",
    "vv21_market_clearing = vv21_market_clearing[vv21_market_clearing['MCP'] < 0.0]\n",
    "vv18_market_clearing = vv18_market_clearing[vv18_market_clearing['MCP'] < 0.0]"
   ]
  },
  {
   "cell_type": "code",
   "execution_count": null,
   "id": "a6ced8c1",
   "metadata": {},
   "outputs": [],
   "source": [
    "vv21_cleared_trade =  helper_mongo.query_to_mongo('PowerTAC2020_Wholesale_Test_VV21', 'ClearedTrade_Info')\n",
    "vv18_cleared_trade =  helper_mongo.query_to_mongo('PowerTAC2020_Wholesale_Test_VV18', 'ClearedTrade_Info')"
   ]
  },
  {
   "cell_type": "code",
   "execution_count": null,
   "id": "58b2d9fe",
   "metadata": {},
   "outputs": [],
   "source": [
    "vv21_submitted_bids['Proximity'] = vv21_submitted_bids['Execution_Timeslot'] - vv21_submitted_bids['Bidding_Timeslot']\n",
    "vv18_submitted_bids['Proximity'] = vv18_submitted_bids['Execution_Timeslot'] - vv18_submitted_bids['Bidding_Timeslot']\n",
    "\n",
    "vv21_market_clearing['Proximity'] = vv21_market_clearing['Execution_Timeslot'] - vv21_market_clearing['Bidding_Timeslot']\n",
    "vv18_market_clearing['Proximity'] = vv18_market_clearing['Execution_Timeslot'] - vv18_market_clearing['Bidding_Timeslot']\n",
    "\n",
    "vv21_cleared_trade['Proximity'] = vv21_cleared_trade['Execution_Timeslot'] - vv21_cleared_trade['Bidding_Timeslot']\n",
    "vv18_cleared_trade['Proximity'] = vv18_cleared_trade['Execution_Timeslot'] - vv18_cleared_trade['Bidding_Timeslot']"
   ]
  },
  {
   "cell_type": "code",
   "execution_count": null,
   "id": "4f2fa2d3",
   "metadata": {},
   "outputs": [],
   "source": [
    "vv21_lp = abs(vv21_submitted_bids.groupby('Proximity').mean()['LimitPrice'])\n",
    "vv18_lp = abs(vv18_submitted_bids.groupby('Proximity').mean()['LimitPrice'])\n",
    "\n",
    "vv21_cp = abs(vv21_market_clearing.groupby('Proximity').mean()['MCP'])\n",
    "vv18_cp = abs(vv18_market_clearing.groupby('Proximity').mean()['MCP'])\n",
    "\n",
    "vv21_mcp = vv21_cleared_trade.groupby('Proximity').mean()['MCP']\n",
    "vv18_mcp = vv18_cleared_trade.groupby('Proximity').mean()['MCP']"
   ]
  },
  {
   "cell_type": "code",
   "execution_count": null,
   "id": "f4a8c214",
   "metadata": {},
   "outputs": [],
   "source": [
    "vv21_lq = abs(vv21_submitted_bids.groupby('Proximity').mean()[\"Broker's_Bidded_Quantity\"])\n",
    "vv18_lq = abs(vv18_submitted_bids.groupby('Proximity').mean()[\"Broker's_Bidded_Quantity\"])\n",
    "\n",
    "vv21_cq = abs(vv21_market_clearing.groupby('Proximity').mean()[\"Broker's_Cleared_Quantity\"])\n",
    "vv18_cq = abs(vv18_market_clearing.groupby('Proximity').mean()[\"Broker's_Cleared_Quantity\"])\n",
    "\n",
    "vv21_mcq = vv21_cleared_trade.groupby('Proximity').mean()[\"Net_Cleared_Quantity\"]\n",
    "vv18_mcq = vv18_cleared_trade.groupby('Proximity').mean()[\"Net_Cleared_Quantity\"]"
   ]
  },
  {
   "cell_type": "code",
   "execution_count": null,
   "id": "b6eb8abf",
   "metadata": {
    "scrolled": true
   },
   "outputs": [],
   "source": [
    " # plotting\n",
    "fig, axes = plt.subplots(nrows=1, ncols=3, figsize=(18,8))\n",
    "fig.tight_layout(pad=5)\n",
    "\n",
    "axes[0].set_title(\"Limitprice Comparison\")\n",
    "axes[0].plot(vv21_lp, label=\"VV21\")\n",
    "axes[0].plot(vv18_lp, label=\"VV18\")\n",
    "axes[0].set_xlabel(\"Proximity\")\n",
    "axes[0].set_ylabel(\"Limitprice\")\n",
    "axes[0].legend()\n",
    "\n",
    "axes[1].set_title(\"Clearing-price Comparison\")\n",
    "axes[1].plot(vv21_cp, label=\"VV21\")\n",
    "axes[1].plot(vv18_cp, label=\"VV18\")\n",
    "axes[1].set_xlabel(\"Proximity\")\n",
    "axes[1].set_ylabel(\"MCP\")\n",
    "axes[1].legend()\n",
    "\n",
    "axes[2].set_title(\"MCP Comparison\")\n",
    "axes[2].plot(vv21_mcp, label=\"VV21\")\n",
    "axes[2].plot(vv18_mcp, label=\"VV18\")\n",
    "axes[2].set_xlabel(\"Proximity\")\n",
    "axes[2].set_ylabel(\"MCP\")\n",
    "axes[2].legend()\n",
    "\n",
    "plt.show()"
   ]
  },
  {
   "cell_type": "code",
   "execution_count": null,
   "id": "860ce494",
   "metadata": {
    "scrolled": true
   },
   "outputs": [],
   "source": [
    " # plotting\n",
    "fig, axes = plt.subplots(nrows=1, ncols=3, figsize=(18,8))\n",
    "fig.tight_layout(pad=5)\n",
    "\n",
    "axes[0].set_title(\"Limitquantity Comparison\")\n",
    "axes[0].plot(vv21_lq, label=\"VV21\")\n",
    "axes[0].plot(vv18_lq, label=\"VV18\")\n",
    "axes[0].set_xlabel(\"Proximity\")\n",
    "axes[0].set_ylabel(\"Broker's bid Quantity\")\n",
    "axes[0].legend()\n",
    "\n",
    "axes[1].set_title(\"Clearing-quantity Comparison\")\n",
    "axes[1].plot(vv21_cq, label=\"VV21\")\n",
    "axes[1].plot(vv18_cq, label=\"VV18\")\n",
    "axes[1].set_xlabel(\"Proximity\")\n",
    "axes[1].set_ylabel(\"Broker's Cleared Quantity\")\n",
    "axes[1].legend()\n",
    "\n",
    "axes[2].set_title(\"MCQ Comparison\")\n",
    "axes[2].plot(vv21_mcq[:23], label=\"VV21\")\n",
    "axes[2].plot(vv18_mcq[:23], label=\"VV18\")\n",
    "axes[2].set_xlabel(\"Proximity\")\n",
    "axes[2].set_ylabel(\"Net Cleared Quantity\")\n",
    "axes[2].legend()\n",
    "\n",
    "plt.show()"
   ]
  },
  {
   "cell_type": "code",
   "execution_count": null,
   "id": "84277786",
   "metadata": {},
   "outputs": [],
   "source": [
    " # plotting\n",
    "fig, axes = plt.subplots(nrows=1, ncols=2, figsize=(18,8))\n",
    "fig.tight_layout(pad=5)\n",
    "\n",
    "axes[0].set_title(\"Perfomance Comparison\")\n",
    "axes[0].plot(vv21_mcp, label=\"MCP\")\n",
    "axes[0].set_xlabel(\"Proximity\")\n",
    "axes[0].legend()\n",
    "\n",
    "axes[1].set_title(\"Perfomance Comparison\")\n",
    "axes[1].plot(vv21_lq, label=\"VV21 CQ\")\n",
    "axes[1].plot(vv18_lq, label=\"VV18 CQ\")\n",
    "axes[1].set_xlabel(\"Proximity\")\n",
    "axes[1].legend()\n",
    "\n",
    "plt.show()"
   ]
  }
 ],
 "metadata": {
  "kernelspec": {
   "display_name": "Python 3",
   "language": "python",
   "name": "python3"
  },
  "language_info": {
   "codemirror_mode": {
    "name": "ipython",
    "version": 3
   },
   "file_extension": ".py",
   "mimetype": "text/x-python",
   "name": "python",
   "nbconvert_exporter": "python",
   "pygments_lexer": "ipython3",
   "version": "3.8.8"
  }
 },
 "nbformat": 4,
 "nbformat_minor": 5
}
