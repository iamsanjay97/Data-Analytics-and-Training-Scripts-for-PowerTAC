{
 "cells": [
  {
   "cell_type": "code",
   "execution_count": 1,
   "id": "0d63304b",
   "metadata": {},
   "outputs": [],
   "source": [
    "import os\n",
    "import sys\n",
    "sys.path.insert(1, '/mnt/d/PowerTAC/Python/python_utils/helper') "
   ]
  },
  {
   "cell_type": "code",
   "execution_count": 2,
   "id": "0c2bd9fa",
   "metadata": {},
   "outputs": [],
   "source": [
    "import numpy as np\n",
    "import pandas as pd\n",
    "import seaborn as sns\n",
    "import plotly.express as px\n",
    "import plotly.graph_objects as go\n",
    "\n",
    "from statistics import mean\n",
    "from matplotlib import pyplot as plt\n",
    "from plotly.subplots import make_subplots\n",
    "from read_mongo_collection import HelperToReadMongo\n",
    "\n",
    "sns.set_theme(style=\"darkgrid\")\n",
    "\n",
    "# See complete data\n",
    "pd.set_option('max_columns', None)\n",
    "pd.set_option(\"max_rows\", None)\n",
    "np.set_printoptions(threshold=np.inf)"
   ]
  },
  {
   "cell_type": "code",
   "execution_count": 3,
   "id": "192cd664",
   "metadata": {},
   "outputs": [
    {
     "name": "stdout",
     "output_type": "stream",
     "text": [
      "\n"
     ]
    }
   ],
   "source": [
    "helper_mongo = HelperToReadMongo()"
   ]
  },
  {
   "cell_type": "code",
   "execution_count": 4,
   "id": "c025cd79",
   "metadata": {},
   "outputs": [],
   "source": [
    "# Specify names of all the brokers corresponding to databases here\n",
    "list_of_brokers = ['VV21', 'Sample']\n",
    "\n",
    "rename_col = {\"MCP\": \"Price\", \"LimitPrice\": \"Price\" , \"Net_Cleared_Quantity\": \"Quantity\", \\\n",
    "              \"Broker's_Cleared_Quantity\": \"Quantity\", \"Broker's_Bidded_Quantity\": \"Quantity\", \\\n",
    "              \"Market_Position\": \"Quantity\"}"
   ]
  },
  {
   "cell_type": "code",
   "execution_count": 5,
   "id": "1701cbff",
   "metadata": {},
   "outputs": [],
   "source": [
    "color_book = {'VV21': 'darkorchid', 'VidyutVanika21': 'darkorchid', 'VidyutVanika': 'slateblue', 'VV20': 'slateblue', 'VidyutVanika18': 'yellowgreen', 'VV18': 'yellowgreen', \\\n",
    "              'Sample': 'orchid', 'AgentUDE': 'slategray', 'SPOT': 'tomato', 'TUC_TAC': 'gold', 'MCP': 'red'}\n",
    "\n",
    "def get_colors(list_of_brokers):\n",
    "    return [color_book.get(broker) for broker in list_of_brokers]"
   ]
  },
  {
   "cell_type": "code",
   "execution_count": 6,
   "id": "a4a8f7c7",
   "metadata": {},
   "outputs": [],
   "source": [
    "vv21_market_clearing =  helper_mongo.query_to_mongo('PowerTAC2021_Wholesale_Test_VV21_SC_7', 'MarketTransaction_Info', server_ip='10.2.16.159', ssh_username='powertac', ssh_password='sanjay9397', remote=True)\n",
    "sample_market_clearing =  helper_mongo.query_to_mongo('PowerTAC2021_Wholesale_Test_null_SC_7', 'MarketTransaction_Info', server_ip='10.2.16.159', ssh_username='powertac', ssh_password='sanjay9397', remote=True)\n",
    "\n",
    "# consider only bids\n",
    "# vv21_market_clearing = vv21_market_clearing[vv21_market_clearing['MCP'] < 0.0]\n",
    "# sample  _market_clearing = sample_market_clearing[vv18_market_clearing['MCP'] < 0.0]"
   ]
  },
  {
   "cell_type": "code",
   "execution_count": 7,
   "id": "09d2434e",
   "metadata": {},
   "outputs": [],
   "source": [
    "vv21_market_clearing['Proximity'] = vv21_market_clearing['Execution_Timeslot'] - vv21_market_clearing['Bidding_Timeslot']\n",
    "sample_market_clearing['Proximity'] = sample_market_clearing['Execution_Timeslot'] - sample_market_clearing['Bidding_Timeslot']"
   ]
  },
  {
   "cell_type": "code",
   "execution_count": 8,
   "id": "ca7ff220",
   "metadata": {},
   "outputs": [],
   "source": [
    "vv21_market_clearing['Cost'] = vv21_market_clearing['MCP'] * vv21_market_clearing[\"Broker's_Cleared_Quantity\"]\n",
    "sample_market_clearing['Cost'] = sample_market_clearing['MCP'] * sample_market_clearing[\"Broker's_Cleared_Quantity\"]"
   ]
  },
  {
   "cell_type": "code",
   "execution_count": 9,
   "id": "87a74168",
   "metadata": {},
   "outputs": [],
   "source": [
    "vv21_market_clearing = vv21_market_clearing[vv21_market_clearing['Game_Name'] == 'finals_2019_07_6_4444']\n",
    "sample_market_clearing = sample_market_clearing[sample_market_clearing['Game_Name'] == 'finals_2019_07_6_4444']"
   ]
  },
  {
   "cell_type": "code",
   "execution_count": 10,
   "id": "44441313",
   "metadata": {},
   "outputs": [
    {
     "data": {
      "image/png": "[encoded data removed]",
      "text/plain": [
       "<Figure size 432x288 with 1 Axes>"
      ]
     },
     "metadata": {},
     "output_type": "display_data"
    }
   ],
   "source": [
    "sns.barplot(x=list_of_brokers, y=[vv21_market_clearing['Cost'].sum(), sample_market_clearing['Cost'].sum()], palette = get_colors(list_of_brokers), linewidth=1.0, edgecolor=\".2\").set(ylabel='Price ($)', title='Wholesale Cost')\n",
    "plt.show()"
   ]
  },
  {
   "cell_type": "code",
   "execution_count": 23,
   "id": "0bccd714",
   "metadata": {},
   "outputs": [
    {
     "data": {
      "text/plain": [
       "-53.96791637163688"
      ]
     },
     "execution_count": 23,
     "metadata": {},
     "output_type": "execute_result"
    }
   ],
   "source": [
    "vv21_market_clearing['Cost'].sum() / vv21_market_clearing[\"Broker's_Cleared_Quantity\"].sum()"
   ]
  },
  {
   "cell_type": "code",
   "execution_count": 24,
   "id": "465ff5e7",
   "metadata": {},
   "outputs": [
    {
     "data": {
      "text/plain": [
       "-32.27519068001753"
      ]
     },
     "execution_count": 24,
     "metadata": {},
     "output_type": "execute_result"
    }
   ],
   "source": [
    "sample_market_clearing['Cost'].sum() / sample_market_clearing[\"Broker's_Cleared_Quantity\"].sum()"
   ]
  },
  {
   "cell_type": "code",
   "execution_count": null,
   "id": "f29fa94e",
   "metadata": {},
   "outputs": [],
   "source": []
  }
 ],
 "metadata": {
  "kernelspec": {
   "display_name": "Python 3",
   "language": "python",
   "name": "python3"
  },
  "language_info": {
   "codemirror_mode": {
    "name": "ipython",
    "version": 3
   },
   "file_extension": ".py",
   "mimetype": "text/x-python",
   "name": "python",
   "nbconvert_exporter": "python",
   "pygments_lexer": "ipython3",
   "version": "3.8.8"
  }
 },
 "nbformat": 4,
 "nbformat_minor": 5
}
